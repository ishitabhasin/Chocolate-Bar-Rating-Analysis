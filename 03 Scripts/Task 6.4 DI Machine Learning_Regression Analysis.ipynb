{
 "cells": [
  {
   "cell_type": "markdown",
   "id": "93716d8f",
   "metadata": {},
   "source": [
    "## 6.4 Machine Learning Part 1\n"
   ]
  },
  {
   "cell_type": "markdown",
   "id": "dd8cc4b3",
   "metadata": {},
   "source": [
    "### This script contains the following:\n",
    "\n",
    "#### 1. Importing libraries and data\n",
    "#### 2. Data cleaning\n",
    "#### 3. Data prep for regression analysis\n",
    "#### 4. Regression analysis\n",
    "#### Bonus: performance improvement after removing outliers"
   ]
  },
  {
   "cell_type": "markdown",
   "id": "b03c582e",
   "metadata": {},
   "source": [
    "### 1. Importing libraries and data"
   ]
  },
  {
   "cell_type": "code",
   "execution_count": 1,
   "id": "4a8c75de",
   "metadata": {},
   "outputs": [],
   "source": [
    "import pandas as pd\n",
    "import numpy as np\n",
    "import seaborn as sns\n",
    "import matplotlib\n",
    "import matplotlib.pyplot as plt\n",
    "import os\n",
    "import sklearn\n",
    "from sklearn.model_selection import train_test_split \n",
    "from sklearn.linear_model import LinearRegression\n",
    "from sklearn.metrics import mean_squared_error, r2_score"
   ]
  },
  {
   "cell_type": "code",
   "execution_count": 2,
   "id": "5a7af1c3",
   "metadata": {},
   "outputs": [],
   "source": [
    "%matplotlib inline"
   ]
  },
  {
   "cell_type": "code",
   "execution_count": 3,
   "id": "7ac12ff9",
   "metadata": {},
   "outputs": [],
   "source": [
    "#assigning path\n",
    "path = r'/Users/ishitabhasin/Desktop/Career Foundary Tasks/Achievement 6'"
   ]
  },
  {
   "cell_type": "code",
   "execution_count": 4,
   "id": "38732ecc",
   "metadata": {},
   "outputs": [],
   "source": [
    "df_choc_clean = pd.read_csv(os.path.join(path,'02 Data','Prepared Data','df_choc_clean.csv'),index_col = False)"
   ]
  },
  {
   "cell_type": "code",
   "execution_count": 5,
   "id": "f93c61e6",
   "metadata": {},
   "outputs": [
    {
     "data": {
      "text/html": [
       "<div>\n",
       "<style scoped>\n",
       "    .dataframe tbody tr th:only-of-type {\n",
       "        vertical-align: middle;\n",
       "    }\n",
       "\n",
       "    .dataframe tbody tr th {\n",
       "        vertical-align: top;\n",
       "    }\n",
       "\n",
       "    .dataframe thead th {\n",
       "        text-align: right;\n",
       "    }\n",
       "</style>\n",
       "<table border=\"1\" class=\"dataframe\">\n",
       "  <thead>\n",
       "    <tr style=\"text-align: right;\">\n",
       "      <th></th>\n",
       "      <th>Unnamed: 0</th>\n",
       "      <th>Company_name</th>\n",
       "      <th>Bar_origin</th>\n",
       "      <th>Ref</th>\n",
       "      <th>Review_date</th>\n",
       "      <th>Cocoa_percentage</th>\n",
       "      <th>Company_location</th>\n",
       "      <th>Rating</th>\n",
       "      <th>Bean_origin</th>\n",
       "    </tr>\n",
       "  </thead>\n",
       "  <tbody>\n",
       "    <tr>\n",
       "      <th>0</th>\n",
       "      <td>0</td>\n",
       "      <td>A. Morin</td>\n",
       "      <td>Agua Grande</td>\n",
       "      <td>1876</td>\n",
       "      <td>2016</td>\n",
       "      <td>63%</td>\n",
       "      <td>France</td>\n",
       "      <td>3.75</td>\n",
       "      <td>Sao Tome</td>\n",
       "    </tr>\n",
       "    <tr>\n",
       "      <th>1</th>\n",
       "      <td>1</td>\n",
       "      <td>A. Morin</td>\n",
       "      <td>Kpime</td>\n",
       "      <td>1676</td>\n",
       "      <td>2015</td>\n",
       "      <td>70%</td>\n",
       "      <td>France</td>\n",
       "      <td>2.75</td>\n",
       "      <td>Togo</td>\n",
       "    </tr>\n",
       "    <tr>\n",
       "      <th>2</th>\n",
       "      <td>2</td>\n",
       "      <td>A. Morin</td>\n",
       "      <td>Atsane</td>\n",
       "      <td>1676</td>\n",
       "      <td>2015</td>\n",
       "      <td>70%</td>\n",
       "      <td>France</td>\n",
       "      <td>3.00</td>\n",
       "      <td>Togo</td>\n",
       "    </tr>\n",
       "    <tr>\n",
       "      <th>3</th>\n",
       "      <td>3</td>\n",
       "      <td>A. Morin</td>\n",
       "      <td>Akata</td>\n",
       "      <td>1680</td>\n",
       "      <td>2015</td>\n",
       "      <td>70%</td>\n",
       "      <td>France</td>\n",
       "      <td>3.50</td>\n",
       "      <td>Togo</td>\n",
       "    </tr>\n",
       "    <tr>\n",
       "      <th>4</th>\n",
       "      <td>4</td>\n",
       "      <td>A. Morin</td>\n",
       "      <td>Quilla</td>\n",
       "      <td>1704</td>\n",
       "      <td>2015</td>\n",
       "      <td>70%</td>\n",
       "      <td>France</td>\n",
       "      <td>3.50</td>\n",
       "      <td>Peru</td>\n",
       "    </tr>\n",
       "  </tbody>\n",
       "</table>\n",
       "</div>"
      ],
      "text/plain": [
       "   Unnamed: 0 Company_name   Bar_origin   Ref  Review_date Cocoa_percentage  \\\n",
       "0           0     A. Morin  Agua Grande  1876         2016              63%   \n",
       "1           1     A. Morin        Kpime  1676         2015              70%   \n",
       "2           2     A. Morin       Atsane  1676         2015              70%   \n",
       "3           3     A. Morin        Akata  1680         2015              70%   \n",
       "4           4     A. Morin       Quilla  1704         2015              70%   \n",
       "\n",
       "  Company_location  Rating Bean_origin  \n",
       "0           France    3.75    Sao Tome  \n",
       "1           France    2.75        Togo  \n",
       "2           France    3.00        Togo  \n",
       "3           France    3.50        Togo  \n",
       "4           France    3.50        Peru  "
      ]
     },
     "execution_count": 5,
     "metadata": {},
     "output_type": "execute_result"
    }
   ],
   "source": [
    "df_choc_clean.head()"
   ]
  },
  {
   "cell_type": "markdown",
   "id": "6d2d63c5",
   "metadata": {},
   "source": [
    "### 2. Data wrangling "
   ]
  },
  {
   "cell_type": "code",
   "execution_count": 6,
   "id": "b2184749",
   "metadata": {},
   "outputs": [],
   "source": [
    "df_choc_clean = df_choc_clean.drop(\"Unnamed: 0\", axis='columns')"
   ]
  },
  {
   "cell_type": "code",
   "execution_count": 7,
   "id": "3d0e02fa",
   "metadata": {},
   "outputs": [
    {
     "data": {
      "text/html": [
       "<div>\n",
       "<style scoped>\n",
       "    .dataframe tbody tr th:only-of-type {\n",
       "        vertical-align: middle;\n",
       "    }\n",
       "\n",
       "    .dataframe tbody tr th {\n",
       "        vertical-align: top;\n",
       "    }\n",
       "\n",
       "    .dataframe thead th {\n",
       "        text-align: right;\n",
       "    }\n",
       "</style>\n",
       "<table border=\"1\" class=\"dataframe\">\n",
       "  <thead>\n",
       "    <tr style=\"text-align: right;\">\n",
       "      <th></th>\n",
       "      <th>Company_name</th>\n",
       "      <th>Bar_origin</th>\n",
       "      <th>Ref</th>\n",
       "      <th>Review_date</th>\n",
       "      <th>Cocoa_percentage</th>\n",
       "      <th>Company_location</th>\n",
       "      <th>Rating</th>\n",
       "      <th>Bean_origin</th>\n",
       "    </tr>\n",
       "  </thead>\n",
       "  <tbody>\n",
       "    <tr>\n",
       "      <th>0</th>\n",
       "      <td>A. Morin</td>\n",
       "      <td>Agua Grande</td>\n",
       "      <td>1876</td>\n",
       "      <td>2016</td>\n",
       "      <td>63%</td>\n",
       "      <td>France</td>\n",
       "      <td>3.75</td>\n",
       "      <td>Sao Tome</td>\n",
       "    </tr>\n",
       "    <tr>\n",
       "      <th>1</th>\n",
       "      <td>A. Morin</td>\n",
       "      <td>Kpime</td>\n",
       "      <td>1676</td>\n",
       "      <td>2015</td>\n",
       "      <td>70%</td>\n",
       "      <td>France</td>\n",
       "      <td>2.75</td>\n",
       "      <td>Togo</td>\n",
       "    </tr>\n",
       "    <tr>\n",
       "      <th>2</th>\n",
       "      <td>A. Morin</td>\n",
       "      <td>Atsane</td>\n",
       "      <td>1676</td>\n",
       "      <td>2015</td>\n",
       "      <td>70%</td>\n",
       "      <td>France</td>\n",
       "      <td>3.00</td>\n",
       "      <td>Togo</td>\n",
       "    </tr>\n",
       "    <tr>\n",
       "      <th>3</th>\n",
       "      <td>A. Morin</td>\n",
       "      <td>Akata</td>\n",
       "      <td>1680</td>\n",
       "      <td>2015</td>\n",
       "      <td>70%</td>\n",
       "      <td>France</td>\n",
       "      <td>3.50</td>\n",
       "      <td>Togo</td>\n",
       "    </tr>\n",
       "    <tr>\n",
       "      <th>4</th>\n",
       "      <td>A. Morin</td>\n",
       "      <td>Quilla</td>\n",
       "      <td>1704</td>\n",
       "      <td>2015</td>\n",
       "      <td>70%</td>\n",
       "      <td>France</td>\n",
       "      <td>3.50</td>\n",
       "      <td>Peru</td>\n",
       "    </tr>\n",
       "  </tbody>\n",
       "</table>\n",
       "</div>"
      ],
      "text/plain": [
       "  Company_name   Bar_origin   Ref  Review_date Cocoa_percentage  \\\n",
       "0     A. Morin  Agua Grande  1876         2016              63%   \n",
       "1     A. Morin        Kpime  1676         2015              70%   \n",
       "2     A. Morin       Atsane  1676         2015              70%   \n",
       "3     A. Morin        Akata  1680         2015              70%   \n",
       "4     A. Morin       Quilla  1704         2015              70%   \n",
       "\n",
       "  Company_location  Rating Bean_origin  \n",
       "0           France    3.75    Sao Tome  \n",
       "1           France    2.75        Togo  \n",
       "2           France    3.00        Togo  \n",
       "3           France    3.50        Togo  \n",
       "4           France    3.50        Peru  "
      ]
     },
     "execution_count": 7,
     "metadata": {},
     "output_type": "execute_result"
    }
   ],
   "source": [
    "df_choc_clean.head()"
   ]
  },
  {
   "cell_type": "code",
   "execution_count": 8,
   "id": "c4ec598f",
   "metadata": {},
   "outputs": [
    {
     "data": {
      "text/html": [
       "<div>\n",
       "<style scoped>\n",
       "    .dataframe tbody tr th:only-of-type {\n",
       "        vertical-align: middle;\n",
       "    }\n",
       "\n",
       "    .dataframe tbody tr th {\n",
       "        vertical-align: top;\n",
       "    }\n",
       "\n",
       "    .dataframe thead th {\n",
       "        text-align: right;\n",
       "    }\n",
       "</style>\n",
       "<table border=\"1\" class=\"dataframe\">\n",
       "  <thead>\n",
       "    <tr style=\"text-align: right;\">\n",
       "      <th></th>\n",
       "      <th>Company_name</th>\n",
       "      <th>Bar_origin</th>\n",
       "      <th>Ref</th>\n",
       "      <th>Review_date</th>\n",
       "      <th>Cocoa_percentage</th>\n",
       "      <th>Company_location</th>\n",
       "      <th>Rating</th>\n",
       "      <th>Bean_origin</th>\n",
       "    </tr>\n",
       "  </thead>\n",
       "  <tbody>\n",
       "    <tr>\n",
       "      <th>0</th>\n",
       "      <td>A. Morin</td>\n",
       "      <td>Agua Grande</td>\n",
       "      <td>1876</td>\n",
       "      <td>2016</td>\n",
       "      <td>0.63</td>\n",
       "      <td>France</td>\n",
       "      <td>3.75</td>\n",
       "      <td>Sao Tome</td>\n",
       "    </tr>\n",
       "    <tr>\n",
       "      <th>1</th>\n",
       "      <td>A. Morin</td>\n",
       "      <td>Kpime</td>\n",
       "      <td>1676</td>\n",
       "      <td>2015</td>\n",
       "      <td>0.70</td>\n",
       "      <td>France</td>\n",
       "      <td>2.75</td>\n",
       "      <td>Togo</td>\n",
       "    </tr>\n",
       "    <tr>\n",
       "      <th>2</th>\n",
       "      <td>A. Morin</td>\n",
       "      <td>Atsane</td>\n",
       "      <td>1676</td>\n",
       "      <td>2015</td>\n",
       "      <td>0.70</td>\n",
       "      <td>France</td>\n",
       "      <td>3.00</td>\n",
       "      <td>Togo</td>\n",
       "    </tr>\n",
       "    <tr>\n",
       "      <th>3</th>\n",
       "      <td>A. Morin</td>\n",
       "      <td>Akata</td>\n",
       "      <td>1680</td>\n",
       "      <td>2015</td>\n",
       "      <td>0.70</td>\n",
       "      <td>France</td>\n",
       "      <td>3.50</td>\n",
       "      <td>Togo</td>\n",
       "    </tr>\n",
       "    <tr>\n",
       "      <th>4</th>\n",
       "      <td>A. Morin</td>\n",
       "      <td>Quilla</td>\n",
       "      <td>1704</td>\n",
       "      <td>2015</td>\n",
       "      <td>0.70</td>\n",
       "      <td>France</td>\n",
       "      <td>3.50</td>\n",
       "      <td>Peru</td>\n",
       "    </tr>\n",
       "  </tbody>\n",
       "</table>\n",
       "</div>"
      ],
      "text/plain": [
       "  Company_name   Bar_origin   Ref  Review_date  Cocoa_percentage  \\\n",
       "0     A. Morin  Agua Grande  1876         2016              0.63   \n",
       "1     A. Morin        Kpime  1676         2015              0.70   \n",
       "2     A. Morin       Atsane  1676         2015              0.70   \n",
       "3     A. Morin        Akata  1680         2015              0.70   \n",
       "4     A. Morin       Quilla  1704         2015              0.70   \n",
       "\n",
       "  Company_location  Rating Bean_origin  \n",
       "0           France    3.75    Sao Tome  \n",
       "1           France    2.75        Togo  \n",
       "2           France    3.00        Togo  \n",
       "3           France    3.50        Togo  \n",
       "4           France    3.50        Peru  "
      ]
     },
     "execution_count": 8,
     "metadata": {},
     "output_type": "execute_result"
    }
   ],
   "source": [
    "#changing data type for Cocoa_percentage to numeric for ease of analysis\n",
    "df_choc_clean['Cocoa_percentage'] = df_choc_clean['Cocoa_percentage'].str.replace('%','').astype(float)/100\n",
    "df_choc_clean.head()"
   ]
  },
  {
   "cell_type": "markdown",
   "id": "8b829739",
   "metadata": {},
   "source": [
    "### 3. Conduct consistency checks"
   ]
  },
  {
   "cell_type": "code",
   "execution_count": 10,
   "id": "f1c78872",
   "metadata": {},
   "outputs": [
    {
     "data": {
      "text/plain": [
       "Index(['Company_name', 'Bar_origin', 'Ref', 'Review_date', 'Cocoa_percentage',\n",
       "       'Company_location', 'Rating', 'Bean_origin'],\n",
       "      dtype='object')"
      ]
     },
     "execution_count": 10,
     "metadata": {},
     "output_type": "execute_result"
    }
   ],
   "source": [
    "df_choc_clean.columns"
   ]
  },
  {
   "cell_type": "code",
   "execution_count": 11,
   "id": "9753c0f2",
   "metadata": {},
   "outputs": [
    {
     "data": {
      "text/html": [
       "<div>\n",
       "<style scoped>\n",
       "    .dataframe tbody tr th:only-of-type {\n",
       "        vertical-align: middle;\n",
       "    }\n",
       "\n",
       "    .dataframe tbody tr th {\n",
       "        vertical-align: top;\n",
       "    }\n",
       "\n",
       "    .dataframe thead th {\n",
       "        text-align: right;\n",
       "    }\n",
       "</style>\n",
       "<table border=\"1\" class=\"dataframe\">\n",
       "  <thead>\n",
       "    <tr style=\"text-align: right;\">\n",
       "      <th></th>\n",
       "      <th>Company_name</th>\n",
       "      <th>Bar_origin</th>\n",
       "      <th>Ref</th>\n",
       "      <th>Review_date</th>\n",
       "      <th>Cocoa_percentage</th>\n",
       "      <th>Company_location</th>\n",
       "      <th>Rating</th>\n",
       "      <th>Bean_origin</th>\n",
       "    </tr>\n",
       "  </thead>\n",
       "  <tbody>\n",
       "    <tr>\n",
       "      <th>0</th>\n",
       "      <td>A. Morin</td>\n",
       "      <td>Agua Grande</td>\n",
       "      <td>1876</td>\n",
       "      <td>2016</td>\n",
       "      <td>0.63</td>\n",
       "      <td>France</td>\n",
       "      <td>3.75</td>\n",
       "      <td>Sao Tome</td>\n",
       "    </tr>\n",
       "    <tr>\n",
       "      <th>1</th>\n",
       "      <td>A. Morin</td>\n",
       "      <td>Kpime</td>\n",
       "      <td>1676</td>\n",
       "      <td>2015</td>\n",
       "      <td>0.70</td>\n",
       "      <td>France</td>\n",
       "      <td>2.75</td>\n",
       "      <td>Togo</td>\n",
       "    </tr>\n",
       "    <tr>\n",
       "      <th>2</th>\n",
       "      <td>A. Morin</td>\n",
       "      <td>Atsane</td>\n",
       "      <td>1676</td>\n",
       "      <td>2015</td>\n",
       "      <td>0.70</td>\n",
       "      <td>France</td>\n",
       "      <td>3.00</td>\n",
       "      <td>Togo</td>\n",
       "    </tr>\n",
       "    <tr>\n",
       "      <th>3</th>\n",
       "      <td>A. Morin</td>\n",
       "      <td>Akata</td>\n",
       "      <td>1680</td>\n",
       "      <td>2015</td>\n",
       "      <td>0.70</td>\n",
       "      <td>France</td>\n",
       "      <td>3.50</td>\n",
       "      <td>Togo</td>\n",
       "    </tr>\n",
       "    <tr>\n",
       "      <th>4</th>\n",
       "      <td>A. Morin</td>\n",
       "      <td>Quilla</td>\n",
       "      <td>1704</td>\n",
       "      <td>2015</td>\n",
       "      <td>0.70</td>\n",
       "      <td>France</td>\n",
       "      <td>3.50</td>\n",
       "      <td>Peru</td>\n",
       "    </tr>\n",
       "    <tr>\n",
       "      <th>5</th>\n",
       "      <td>A. Morin</td>\n",
       "      <td>Carenero</td>\n",
       "      <td>1315</td>\n",
       "      <td>2014</td>\n",
       "      <td>0.70</td>\n",
       "      <td>France</td>\n",
       "      <td>2.75</td>\n",
       "      <td>Venezuela</td>\n",
       "    </tr>\n",
       "    <tr>\n",
       "      <th>6</th>\n",
       "      <td>A. Morin</td>\n",
       "      <td>Cuba</td>\n",
       "      <td>1315</td>\n",
       "      <td>2014</td>\n",
       "      <td>0.70</td>\n",
       "      <td>France</td>\n",
       "      <td>3.50</td>\n",
       "      <td>Cuba</td>\n",
       "    </tr>\n",
       "    <tr>\n",
       "      <th>7</th>\n",
       "      <td>A. Morin</td>\n",
       "      <td>Sur del Lago</td>\n",
       "      <td>1315</td>\n",
       "      <td>2014</td>\n",
       "      <td>0.70</td>\n",
       "      <td>France</td>\n",
       "      <td>3.50</td>\n",
       "      <td>Venezuela</td>\n",
       "    </tr>\n",
       "    <tr>\n",
       "      <th>8</th>\n",
       "      <td>A. Morin</td>\n",
       "      <td>Puerto Cabello</td>\n",
       "      <td>1319</td>\n",
       "      <td>2014</td>\n",
       "      <td>0.70</td>\n",
       "      <td>France</td>\n",
       "      <td>3.75</td>\n",
       "      <td>Venezuela</td>\n",
       "    </tr>\n",
       "    <tr>\n",
       "      <th>9</th>\n",
       "      <td>A. Morin</td>\n",
       "      <td>Pablino</td>\n",
       "      <td>1319</td>\n",
       "      <td>2014</td>\n",
       "      <td>0.70</td>\n",
       "      <td>France</td>\n",
       "      <td>4.00</td>\n",
       "      <td>Peru</td>\n",
       "    </tr>\n",
       "    <tr>\n",
       "      <th>10</th>\n",
       "      <td>A. Morin</td>\n",
       "      <td>Panama</td>\n",
       "      <td>1011</td>\n",
       "      <td>2013</td>\n",
       "      <td>0.70</td>\n",
       "      <td>France</td>\n",
       "      <td>2.75</td>\n",
       "      <td>Panama</td>\n",
       "    </tr>\n",
       "    <tr>\n",
       "      <th>11</th>\n",
       "      <td>A. Morin</td>\n",
       "      <td>Madagascar</td>\n",
       "      <td>1011</td>\n",
       "      <td>2013</td>\n",
       "      <td>0.70</td>\n",
       "      <td>France</td>\n",
       "      <td>3.00</td>\n",
       "      <td>Madagascar</td>\n",
       "    </tr>\n",
       "    <tr>\n",
       "      <th>12</th>\n",
       "      <td>A. Morin</td>\n",
       "      <td>Brazil</td>\n",
       "      <td>1011</td>\n",
       "      <td>2013</td>\n",
       "      <td>0.70</td>\n",
       "      <td>France</td>\n",
       "      <td>3.25</td>\n",
       "      <td>Brazil</td>\n",
       "    </tr>\n",
       "    <tr>\n",
       "      <th>13</th>\n",
       "      <td>A. Morin</td>\n",
       "      <td>Equateur</td>\n",
       "      <td>1011</td>\n",
       "      <td>2013</td>\n",
       "      <td>0.70</td>\n",
       "      <td>France</td>\n",
       "      <td>3.75</td>\n",
       "      <td>Ecuador</td>\n",
       "    </tr>\n",
       "    <tr>\n",
       "      <th>14</th>\n",
       "      <td>A. Morin</td>\n",
       "      <td>Colombie</td>\n",
       "      <td>1015</td>\n",
       "      <td>2013</td>\n",
       "      <td>0.70</td>\n",
       "      <td>France</td>\n",
       "      <td>2.75</td>\n",
       "      <td>Colombia</td>\n",
       "    </tr>\n",
       "    <tr>\n",
       "      <th>15</th>\n",
       "      <td>A. Morin</td>\n",
       "      <td>Birmanie</td>\n",
       "      <td>1015</td>\n",
       "      <td>2013</td>\n",
       "      <td>0.70</td>\n",
       "      <td>France</td>\n",
       "      <td>3.00</td>\n",
       "      <td>Burma</td>\n",
       "    </tr>\n",
       "    <tr>\n",
       "      <th>16</th>\n",
       "      <td>A. Morin</td>\n",
       "      <td>Papua New Guinea</td>\n",
       "      <td>1015</td>\n",
       "      <td>2013</td>\n",
       "      <td>0.70</td>\n",
       "      <td>France</td>\n",
       "      <td>3.25</td>\n",
       "      <td>Papua New Guinea</td>\n",
       "    </tr>\n",
       "    <tr>\n",
       "      <th>17</th>\n",
       "      <td>A. Morin</td>\n",
       "      <td>Chuao</td>\n",
       "      <td>1015</td>\n",
       "      <td>2013</td>\n",
       "      <td>0.70</td>\n",
       "      <td>France</td>\n",
       "      <td>4.00</td>\n",
       "      <td>Venezuela</td>\n",
       "    </tr>\n",
       "    <tr>\n",
       "      <th>18</th>\n",
       "      <td>A. Morin</td>\n",
       "      <td>Piura</td>\n",
       "      <td>1019</td>\n",
       "      <td>2013</td>\n",
       "      <td>0.70</td>\n",
       "      <td>France</td>\n",
       "      <td>3.25</td>\n",
       "      <td>Peru</td>\n",
       "    </tr>\n",
       "    <tr>\n",
       "      <th>19</th>\n",
       "      <td>A. Morin</td>\n",
       "      <td>Chanchamayo Province</td>\n",
       "      <td>1019</td>\n",
       "      <td>2013</td>\n",
       "      <td>0.70</td>\n",
       "      <td>France</td>\n",
       "      <td>3.50</td>\n",
       "      <td>Peru</td>\n",
       "    </tr>\n",
       "  </tbody>\n",
       "</table>\n",
       "</div>"
      ],
      "text/plain": [
       "   Company_name            Bar_origin   Ref  Review_date  Cocoa_percentage  \\\n",
       "0      A. Morin           Agua Grande  1876         2016              0.63   \n",
       "1      A. Morin                 Kpime  1676         2015              0.70   \n",
       "2      A. Morin                Atsane  1676         2015              0.70   \n",
       "3      A. Morin                 Akata  1680         2015              0.70   \n",
       "4      A. Morin                Quilla  1704         2015              0.70   \n",
       "5      A. Morin              Carenero  1315         2014              0.70   \n",
       "6      A. Morin                  Cuba  1315         2014              0.70   \n",
       "7      A. Morin          Sur del Lago  1315         2014              0.70   \n",
       "8      A. Morin        Puerto Cabello  1319         2014              0.70   \n",
       "9      A. Morin               Pablino  1319         2014              0.70   \n",
       "10     A. Morin                Panama  1011         2013              0.70   \n",
       "11     A. Morin            Madagascar  1011         2013              0.70   \n",
       "12     A. Morin                Brazil  1011         2013              0.70   \n",
       "13     A. Morin              Equateur  1011         2013              0.70   \n",
       "14     A. Morin              Colombie  1015         2013              0.70   \n",
       "15     A. Morin              Birmanie  1015         2013              0.70   \n",
       "16     A. Morin      Papua New Guinea  1015         2013              0.70   \n",
       "17     A. Morin                 Chuao  1015         2013              0.70   \n",
       "18     A. Morin                 Piura  1019         2013              0.70   \n",
       "19     A. Morin  Chanchamayo Province  1019         2013              0.70   \n",
       "\n",
       "   Company_location  Rating       Bean_origin  \n",
       "0            France    3.75          Sao Tome  \n",
       "1            France    2.75              Togo  \n",
       "2            France    3.00              Togo  \n",
       "3            France    3.50              Togo  \n",
       "4            France    3.50              Peru  \n",
       "5            France    2.75         Venezuela  \n",
       "6            France    3.50              Cuba  \n",
       "7            France    3.50         Venezuela  \n",
       "8            France    3.75         Venezuela  \n",
       "9            France    4.00              Peru  \n",
       "10           France    2.75            Panama  \n",
       "11           France    3.00        Madagascar  \n",
       "12           France    3.25            Brazil  \n",
       "13           France    3.75           Ecuador  \n",
       "14           France    2.75          Colombia  \n",
       "15           France    3.00             Burma  \n",
       "16           France    3.25  Papua New Guinea  \n",
       "17           France    4.00         Venezuela  \n",
       "18           France    3.25              Peru  \n",
       "19           France    3.50              Peru  "
      ]
     },
     "execution_count": 11,
     "metadata": {},
     "output_type": "execute_result"
    }
   ],
   "source": [
    "df_choc_clean.head(20)"
   ]
  },
  {
   "cell_type": "code",
   "execution_count": 12,
   "id": "05cbb230",
   "metadata": {},
   "outputs": [
    {
     "data": {
      "text/plain": [
       "(1795, 8)"
      ]
     },
     "execution_count": 12,
     "metadata": {},
     "output_type": "execute_result"
    }
   ],
   "source": [
    "df_choc_clean.shape"
   ]
  },
  {
   "cell_type": "markdown",
   "id": "125c790b",
   "metadata": {},
   "source": [
    "##### Missing values"
   ]
  },
  {
   "cell_type": "code",
   "execution_count": 13,
   "id": "d6781c61",
   "metadata": {},
   "outputs": [
    {
     "data": {
      "text/plain": [
       "Company_name         0\n",
       "Bar_origin           0\n",
       "Ref                  0\n",
       "Review_date          0\n",
       "Cocoa_percentage     0\n",
       "Company_location     0\n",
       "Rating               0\n",
       "Bean_origin         74\n",
       "dtype: int64"
      ]
     },
     "execution_count": 13,
     "metadata": {},
     "output_type": "execute_result"
    }
   ],
   "source": [
    "df_choc_clean.isnull().sum()"
   ]
  },
  {
   "cell_type": "markdown",
   "id": "17e66981",
   "metadata": {},
   "source": [
    "##### Duplicates check"
   ]
  },
  {
   "cell_type": "code",
   "execution_count": 14,
   "id": "c8d46fe4",
   "metadata": {},
   "outputs": [],
   "source": [
    "dups = df_choc_clean.duplicated()"
   ]
  },
  {
   "cell_type": "code",
   "execution_count": 16,
   "id": "49282aa5",
   "metadata": {},
   "outputs": [
    {
     "data": {
      "text/plain": [
       "(1795,)"
      ]
     },
     "execution_count": 16,
     "metadata": {},
     "output_type": "execute_result"
    }
   ],
   "source": [
    "dups.shape # No duplicates"
   ]
  },
  {
   "cell_type": "markdown",
   "id": "b9596198",
   "metadata": {},
   "source": [
    "#### Stats for 1st Variable (Cocoa Percentage)"
   ]
  },
  {
   "cell_type": "code",
   "execution_count": 17,
   "id": "58b84a1b",
   "metadata": {},
   "outputs": [
    {
     "data": {
      "text/plain": [
       "<Axes: xlabel='Cocoa_percentage', ylabel='Count'>"
      ]
     },
     "execution_count": 17,
     "metadata": {},
     "output_type": "execute_result"
    },
    {
     "data": {
      "image/png": "[encoded data removed]",
      "text/plain": [
       "<Figure size 640x480 with 1 Axes>"
      ]
     },
     "metadata": {},
     "output_type": "display_data"
    }
   ],
   "source": [
    "sns.histplot(df_choc_clean['Cocoa_percentage'], bins=20, kde = True)"
   ]
  },
  {
   "cell_type": "code",
   "execution_count": 18,
   "id": "50f82722",
   "metadata": {},
   "outputs": [
    {
     "data": {
      "text/plain": [
       "0.7169832869080781"
      ]
     },
     "execution_count": 18,
     "metadata": {},
     "output_type": "execute_result"
    }
   ],
   "source": [
    "df_choc_clean['Cocoa_percentage'].mean() # Check the mean"
   ]
  },
  {
   "cell_type": "code",
   "execution_count": 19,
   "id": "10f8be75",
   "metadata": {},
   "outputs": [
    {
     "data": {
      "text/plain": [
       "0.7"
      ]
     },
     "execution_count": 19,
     "metadata": {},
     "output_type": "execute_result"
    }
   ],
   "source": [
    "df_choc_clean['Cocoa_percentage'].median() # Check the median"
   ]
  },
  {
   "cell_type": "code",
   "execution_count": 20,
   "id": "06864980",
   "metadata": {},
   "outputs": [
    {
     "data": {
      "text/plain": [
       "1.0"
      ]
     },
     "execution_count": 20,
     "metadata": {},
     "output_type": "execute_result"
    }
   ],
   "source": [
    "df_choc_clean['Cocoa_percentage'].max() # Check the max"
   ]
  },
  {
   "cell_type": "markdown",
   "id": "cb3b311f",
   "metadata": {},
   "source": [
    "#### Stats for 2nd Variable (Rating)"
   ]
  },
  {
   "cell_type": "code",
   "execution_count": 21,
   "id": "33e2898c",
   "metadata": {},
   "outputs": [
    {
     "data": {
      "text/plain": [
       "<Axes: xlabel='Rating', ylabel='Count'>"
      ]
     },
     "execution_count": 21,
     "metadata": {},
     "output_type": "execute_result"
    },
    {
     "data": {
      "image/png": "[encoded data removed]",
      "text/plain": [
       "<Figure size 640x480 with 1 Axes>"
      ]
     },
     "metadata": {},
     "output_type": "display_data"
    }
   ],
   "source": [
    "sns.histplot(df_choc_clean['Rating'], bins=20, kde = True)"
   ]
  },
  {
   "cell_type": "code",
   "execution_count": 22,
   "id": "5368c3c4",
   "metadata": {},
   "outputs": [
    {
     "data": {
      "text/plain": [
       "3.185933147632312"
      ]
     },
     "execution_count": 22,
     "metadata": {},
     "output_type": "execute_result"
    }
   ],
   "source": [
    "df_choc_clean['Rating'].mean() # Check the mean"
   ]
  },
  {
   "cell_type": "code",
   "execution_count": 23,
   "id": "cb71f495",
   "metadata": {},
   "outputs": [
    {
     "data": {
      "text/plain": [
       "3.25"
      ]
     },
     "execution_count": 23,
     "metadata": {},
     "output_type": "execute_result"
    }
   ],
   "source": [
    "df_choc_clean['Rating'].median() # Check the median"
   ]
  },
  {
   "cell_type": "code",
   "execution_count": 24,
   "id": "0e8025c2",
   "metadata": {},
   "outputs": [
    {
     "data": {
      "text/plain": [
       "5.0"
      ]
     },
     "execution_count": 24,
     "metadata": {},
     "output_type": "execute_result"
    }
   ],
   "source": [
    "df_choc_clean['Rating'].max() # Check the max"
   ]
  },
  {
   "cell_type": "markdown",
   "id": "de8f1ae6",
   "metadata": {},
   "source": [
    "### 3. Data prep for regression analysis "
   ]
  },
  {
   "cell_type": "code",
   "execution_count": 26,
   "id": "80f59dd0",
   "metadata": {},
   "outputs": [
    {
     "data": {
      "image/png": "[encoded data removed]",
      "text/plain": [
       "<Figure size 640x480 with 1 Axes>"
      ]
     },
     "metadata": {},
     "output_type": "display_data"
    }
   ],
   "source": [
    "# Create a scatterplot using matplotlib for another look at how the chosen variables plot against each other.\n",
    "\n",
    "df_choc_clean.plot(x = 'Cocoa_percentage', y='Rating',style='o') \n",
    "plt.title('Cocoa Percentage vs Rating')  \n",
    "plt.xlabel('Cocoa Percentage')  \n",
    "plt.ylabel('Rating')  \n",
    "plt.show()"
   ]
  },
  {
   "cell_type": "markdown",
   "id": "3886695c",
   "metadata": {},
   "source": [
    "### <div class=\"alert-info\">Hypothesis : Chocolate bars with higher cocoa percentage will have higher ratings</div>\n"
   ]
  },
  {
   "cell_type": "code",
   "execution_count": 27,
   "id": "104548ac",
   "metadata": {},
   "outputs": [],
   "source": [
    "# Reshape the variables into NumPy arrays and put them into separate objects.\n",
    "\n",
    "X = df_choc_clean['Cocoa_percentage'].values.reshape(-1,1)\n",
    "y = df_choc_clean['Rating'].values.reshape(-1,1)"
   ]
  },
  {
   "cell_type": "code",
   "execution_count": 29,
   "id": "bc33227a",
   "metadata": {},
   "outputs": [
    {
     "data": {
      "text/plain": [
       "array([[0.63],\n",
       "       [0.7 ],\n",
       "       [0.7 ],\n",
       "       ...,\n",
       "       [0.65],\n",
       "       [0.62],\n",
       "       [0.65]])"
      ]
     },
     "execution_count": 29,
     "metadata": {},
     "output_type": "execute_result"
    }
   ],
   "source": [
    "X"
   ]
  },
  {
   "cell_type": "code",
   "execution_count": 30,
   "id": "459913ce",
   "metadata": {},
   "outputs": [
    {
     "data": {
      "text/plain": [
       "array([[3.75],\n",
       "       [2.75],\n",
       "       [3.  ],\n",
       "       ...,\n",
       "       [3.5 ],\n",
       "       [3.25],\n",
       "       [3.  ]])"
      ]
     },
     "execution_count": 30,
     "metadata": {},
     "output_type": "execute_result"
    }
   ],
   "source": [
    "y"
   ]
  },
  {
   "cell_type": "code",
   "execution_count": 31,
   "id": "5f5a1b2e",
   "metadata": {},
   "outputs": [],
   "source": [
    "# Split data into a training set and a test set.\n",
    "\n",
    "X_train, X_test, y_train, y_test = train_test_split(X, y, test_size=0.3, random_state=0)"
   ]
  },
  {
   "cell_type": "markdown",
   "id": "c3a15292",
   "metadata": {},
   "source": [
    "### 4. Regression analysis"
   ]
  },
  {
   "cell_type": "code",
   "execution_count": 32,
   "id": "245a5d7d",
   "metadata": {},
   "outputs": [],
   "source": [
    "# Create a regression object.\n",
    "\n",
    "regression = LinearRegression()\n"
   ]
  },
  {
   "cell_type": "code",
   "execution_count": 33,
   "id": "186d303c",
   "metadata": {},
   "outputs": [
    {
     "data": {
      "text/html": [
       "<style>#sk-container-id-1 {color: black;background-color: white;}#sk-container-id-1 pre{padding: 0;}#sk-container-id-1 div.sk-toggleable {background-color: white;}#sk-container-id-1 label.sk-toggleable__label {cursor: pointer;display: block;width: 100%;margin-bottom: 0;padding: 0.3em;box-sizing: border-box;text-align: center;}#sk-container-id-1 label.sk-toggleable__label-arrow:before {content: \"▸\";float: left;margin-right: 0.25em;color: #696969;}#sk-container-id-1 label.sk-toggleable__label-arrow:hover:before {color: black;}#sk-container-id-1 div.sk-estimator:hover label.sk-toggleable__label-arrow:before {color: black;}#sk-container-id-1 div.sk-toggleable__content {max-height: 0;max-width: 0;overflow: hidden;text-align: left;background-color: #f0f8ff;}#sk-container-id-1 div.sk-toggleable__content pre {margin: 0.2em;color: black;border-radius: 0.25em;background-color: #f0f8ff;}#sk-container-id-1 input.sk-toggleable__control:checked~div.sk-toggleable__content {max-height: 200px;max-width: 100%;overflow: auto;}#sk-container-id-1 input.sk-toggleable__control:checked~label.sk-toggleable__label-arrow:before {content: \"▾\";}#sk-container-id-1 div.sk-estimator input.sk-toggleable__control:checked~label.sk-toggleable__label {background-color: #d4ebff;}#sk-container-id-1 div.sk-label input.sk-toggleable__control:checked~label.sk-toggleable__label {background-color: #d4ebff;}#sk-container-id-1 input.sk-hidden--visually {border: 0;clip: rect(1px 1px 1px 1px);clip: rect(1px, 1px, 1px, 1px);height: 1px;margin: -1px;overflow: hidden;padding: 0;position: absolute;width: 1px;}#sk-container-id-1 div.sk-estimator {font-family: monospace;background-color: #f0f8ff;border: 1px dotted black;border-radius: 0.25em;box-sizing: border-box;margin-bottom: 0.5em;}#sk-container-id-1 div.sk-estimator:hover {background-color: #d4ebff;}#sk-container-id-1 div.sk-parallel-item::after {content: \"\";width: 100%;border-bottom: 1px solid gray;flex-grow: 1;}#sk-container-id-1 div.sk-label:hover label.sk-toggleable__label {background-color: #d4ebff;}#sk-container-id-1 div.sk-serial::before {content: \"\";position: absolute;border-left: 1px solid gray;box-sizing: border-box;top: 0;bottom: 0;left: 50%;z-index: 0;}#sk-container-id-1 div.sk-serial {display: flex;flex-direction: column;align-items: center;background-color: white;padding-right: 0.2em;padding-left: 0.2em;position: relative;}#sk-container-id-1 div.sk-item {position: relative;z-index: 1;}#sk-container-id-1 div.sk-parallel {display: flex;align-items: stretch;justify-content: center;background-color: white;position: relative;}#sk-container-id-1 div.sk-item::before, #sk-container-id-1 div.sk-parallel-item::before {content: \"\";position: absolute;border-left: 1px solid gray;box-sizing: border-box;top: 0;bottom: 0;left: 50%;z-index: -1;}#sk-container-id-1 div.sk-parallel-item {display: flex;flex-direction: column;z-index: 1;position: relative;background-color: white;}#sk-container-id-1 div.sk-parallel-item:first-child::after {align-self: flex-end;width: 50%;}#sk-container-id-1 div.sk-parallel-item:last-child::after {align-self: flex-start;width: 50%;}#sk-container-id-1 div.sk-parallel-item:only-child::after {width: 0;}#sk-container-id-1 div.sk-dashed-wrapped {border: 1px dashed gray;margin: 0 0.4em 0.5em 0.4em;box-sizing: border-box;padding-bottom: 0.4em;background-color: white;}#sk-container-id-1 div.sk-label label {font-family: monospace;font-weight: bold;display: inline-block;line-height: 1.2em;}#sk-container-id-1 div.sk-label-container {text-align: center;}#sk-container-id-1 div.sk-container {/* jupyter's `normalize.less` sets `[hidden] { display: none; }` but bootstrap.min.css set `[hidden] { display: none !important; }` so we also need the `!important` here to be able to override the default hidden behavior on the sphinx rendered scikit-learn.org. See: https://github.com/scikit-learn/scikit-learn/issues/21755 */display: inline-block !important;position: relative;}#sk-container-id-1 div.sk-text-repr-fallback {display: none;}</style><div id=\"sk-container-id-1\" class=\"sk-top-container\"><div class=\"sk-text-repr-fallback\"><pre>LinearRegression()</pre><b>In a Jupyter environment, please rerun this cell to show the HTML representation or trust the notebook. <br />On GitHub, the HTML representation is unable to render, please try loading this page with nbviewer.org.</b></div><div class=\"sk-container\" hidden><div class=\"sk-item\"><div class=\"sk-estimator sk-toggleable\"><input class=\"sk-toggleable__control sk-hidden--visually\" id=\"sk-estimator-id-1\" type=\"checkbox\" checked><label for=\"sk-estimator-id-1\" class=\"sk-toggleable__label sk-toggleable__label-arrow\">LinearRegression</label><div class=\"sk-toggleable__content\"><pre>LinearRegression()</pre></div></div></div></div></div>"
      ],
      "text/plain": [
       "LinearRegression()"
      ]
     },
     "execution_count": 33,
     "metadata": {},
     "output_type": "execute_result"
    }
   ],
   "source": [
    "# Fit the regression object onto the training set.\n",
    "\n",
    "regression.fit(X_train, y_train)"
   ]
  },
  {
   "cell_type": "code",
   "execution_count": 34,
   "id": "624212a4",
   "metadata": {},
   "outputs": [],
   "source": [
    "# Predict the values of y using X.\n",
    "\n",
    "y_predicted = regression.predict(X_test)"
   ]
  },
  {
   "cell_type": "code",
   "execution_count": 35,
   "id": "0032295e",
   "metadata": {},
   "outputs": [
    {
     "data": {
      "image/png": "[encoded data removed]",
      "text/plain": [
       "<Figure size 640x480 with 1 Axes>"
      ]
     },
     "metadata": {},
     "output_type": "display_data"
    }
   ],
   "source": [
    "# Create a plot that shows the regression line from the model on the test set.\n",
    "\n",
    "plot_test = plt\n",
    "plot_test.scatter(X_test, y_test, color='green', s = 15)\n",
    "plot_test.plot(X_test, y_predicted, color='red', linewidth =3)\n",
    "plot_test.title('Cocoa Percentage vs Rating (Test set)')\n",
    "plot_test.xlabel('Cocoa Percentage')\n",
    "plot_test.ylabel('Rating')\n",
    "plot_test.show()"
   ]
  },
  {
   "cell_type": "markdown",
   "id": "a2929ba2",
   "metadata": {},
   "source": [
    "### <font color = 'teal'>The line does not fit well with the data since there are many data points that are far away from it.</font>\n",
    "\n"
   ]
  },
  {
   "cell_type": "code",
   "execution_count": 36,
   "id": "b4e3f86c",
   "metadata": {},
   "outputs": [],
   "source": [
    "# Create objects that contain the model summary statistics.\n",
    "\n",
    "rmse = mean_squared_error(y_test, y_predicted) # This is the mean squared error\n",
    "r2 = r2_score(y_test, y_predicted) # This is the R2 score. "
   ]
  },
  {
   "cell_type": "code",
   "execution_count": 37,
   "id": "22492b4a",
   "metadata": {},
   "outputs": [
    {
     "name": "stdout",
     "output_type": "stream",
     "text": [
      "Slope: [[-1.3132551]]\n",
      "Mean squared error:  0.2095351310152621\n",
      "R2 score:  0.01811002046167509\n"
     ]
    }
   ],
   "source": [
    "# Print the model summary statistics. \n",
    "\n",
    "print('Slope:' ,regression.coef_)\n",
    "print('Mean squared error: ', rmse)\n",
    "print('R2 score: ', r2)"
   ]
  },
  {
   "cell_type": "code",
   "execution_count": 38,
   "id": "f8532536",
   "metadata": {},
   "outputs": [
    {
     "data": {
      "text/plain": [
       "array([[3.13545711],\n",
       "       [3.17485476],\n",
       "       [3.20111986],\n",
       "       [3.20111986],\n",
       "       [3.06979435],\n",
       "       [3.39810813],\n",
       "       [3.20111986],\n",
       "       [3.13545711],\n",
       "       [3.25365007],\n",
       "       [3.26678262],\n",
       "       [3.27991517],\n",
       "       [3.20111986],\n",
       "       [3.26678262],\n",
       "       [3.20111986],\n",
       "       [3.13545711],\n",
       "       [3.06979435],\n",
       "       [3.0041316 ],\n",
       "       [3.17485476],\n",
       "       [3.20111986],\n",
       "       [3.20111986],\n",
       "       [3.20111986],\n",
       "       [3.16172221],\n",
       "       [3.39810813],\n",
       "       [2.80714333],\n",
       "       [3.33244537],\n",
       "       [3.13545711],\n",
       "       [3.13545711],\n",
       "       [3.22738497],\n",
       "       [3.20111986],\n",
       "       [3.22738497],\n",
       "       [3.17485476],\n",
       "       [3.20111986],\n",
       "       [3.20111986],\n",
       "       [3.20111986],\n",
       "       [3.13545711],\n",
       "       [3.20111986],\n",
       "       [3.17485476],\n",
       "       [3.27991517],\n",
       "       [3.17485476],\n",
       "       [3.20111986],\n",
       "       [3.13545711],\n",
       "       [3.26678262],\n",
       "       [3.20111986],\n",
       "       [3.39810813],\n",
       "       [3.20111986],\n",
       "       [3.33244537],\n",
       "       [3.10919201],\n",
       "       [3.13545711],\n",
       "       [3.20111986],\n",
       "       [3.20111986],\n",
       "       [3.20111986],\n",
       "       [3.13545711],\n",
       "       [3.16172221],\n",
       "       [3.30618027],\n",
       "       [3.17485476],\n",
       "       [3.20111986],\n",
       "       [3.17485476],\n",
       "       [3.17485476],\n",
       "       [3.18798731],\n",
       "       [3.0303967 ],\n",
       "       [3.20111986],\n",
       "       [3.13545711],\n",
       "       [3.0829269 ],\n",
       "       [3.17485476],\n",
       "       [3.20111986],\n",
       "       [3.20111986],\n",
       "       [3.13545711],\n",
       "       [3.10919201],\n",
       "       [3.22738497],\n",
       "       [3.20111986],\n",
       "       [3.0041316 ],\n",
       "       [3.22738497],\n",
       "       [3.14858966],\n",
       "       [3.20111986],\n",
       "       [3.16172221],\n",
       "       [2.80714333],\n",
       "       [3.20111986],\n",
       "       [3.35871048],\n",
       "       [3.20111986],\n",
       "       [3.13545711],\n",
       "       [3.20111986],\n",
       "       [3.0041316 ],\n",
       "       [3.13545711],\n",
       "       [3.20111986],\n",
       "       [3.20111986],\n",
       "       [3.20111986],\n",
       "       [3.17485476],\n",
       "       [3.17485476],\n",
       "       [3.20111986],\n",
       "       [3.33244537],\n",
       "       [3.12232456],\n",
       "       [3.20111986],\n",
       "       [3.26678262],\n",
       "       [3.33244537],\n",
       "       [3.12232456],\n",
       "       [3.20111986],\n",
       "       [3.20111986],\n",
       "       [3.33244537],\n",
       "       [3.20111986],\n",
       "       [3.0566618 ],\n",
       "       [3.17485476],\n",
       "       [3.16172221],\n",
       "       [3.20111986],\n",
       "       [3.17485476],\n",
       "       [3.13545711],\n",
       "       [3.0041316 ],\n",
       "       [3.0303967 ],\n",
       "       [3.20111986],\n",
       "       [3.12232456],\n",
       "       [3.20111986],\n",
       "       [3.13545711],\n",
       "       [3.20111986],\n",
       "       [3.20111986],\n",
       "       [3.20111986],\n",
       "       [3.20111986],\n",
       "       [3.17485476],\n",
       "       [3.20111986],\n",
       "       [3.20111986],\n",
       "       [3.20111986],\n",
       "       [3.16172221],\n",
       "       [3.26678262],\n",
       "       [3.17485476],\n",
       "       [3.20111986],\n",
       "       [3.20111986],\n",
       "       [3.17485476],\n",
       "       [3.20111986],\n",
       "       [3.06979435],\n",
       "       [3.20111986],\n",
       "       [3.14858966],\n",
       "       [3.20111986],\n",
       "       [3.13545711],\n",
       "       [3.17485476],\n",
       "       [3.13545711],\n",
       "       [3.17485476],\n",
       "       [3.13545711],\n",
       "       [3.20111986],\n",
       "       [3.06979435],\n",
       "       [3.17485476],\n",
       "       [3.33244537],\n",
       "       [3.13545711],\n",
       "       [3.20111986],\n",
       "       [3.17485476],\n",
       "       [3.20111986],\n",
       "       [3.20111986],\n",
       "       [3.20111986],\n",
       "       [3.10919201],\n",
       "       [3.20111986],\n",
       "       [3.20111986],\n",
       "       [3.14858966],\n",
       "       [3.17485476],\n",
       "       [3.20111986],\n",
       "       [3.20111986],\n",
       "       [3.20111986],\n",
       "       [3.20111986],\n",
       "       [3.20111986],\n",
       "       [3.21425241],\n",
       "       [3.18798731],\n",
       "       [3.13545711],\n",
       "       [3.10919201],\n",
       "       [3.27991517],\n",
       "       [3.13545711],\n",
       "       [2.80714333],\n",
       "       [3.13545711],\n",
       "       [3.06979435],\n",
       "       [3.20111986],\n",
       "       [3.20111986],\n",
       "       [3.20111986],\n",
       "       [3.20111986],\n",
       "       [3.13545711],\n",
       "       [3.39810813],\n",
       "       [3.14858966],\n",
       "       [3.20111986],\n",
       "       [2.80714333],\n",
       "       [3.25365007],\n",
       "       [3.13545711],\n",
       "       [3.17485476],\n",
       "       [3.17485476],\n",
       "       [3.22738497],\n",
       "       [3.17485476],\n",
       "       [3.20111986],\n",
       "       [3.26678262],\n",
       "       [3.20111986],\n",
       "       [3.20111986],\n",
       "       [3.14858966],\n",
       "       [3.13545711],\n",
       "       [3.20111986],\n",
       "       [3.16172221],\n",
       "       [3.17485476],\n",
       "       [3.17485476],\n",
       "       [3.14858966],\n",
       "       [3.26678262],\n",
       "       [3.17485476],\n",
       "       [3.20111986],\n",
       "       [3.18798731],\n",
       "       [3.13545711],\n",
       "       [3.20111986],\n",
       "       [3.13545711],\n",
       "       [3.13545711],\n",
       "       [3.26678262],\n",
       "       [3.20111986],\n",
       "       [3.17485476],\n",
       "       [3.16172221],\n",
       "       [3.20111986],\n",
       "       [3.26678262],\n",
       "       [3.20111986],\n",
       "       [3.06979435],\n",
       "       [3.17485476],\n",
       "       [3.27991517],\n",
       "       [3.06979435],\n",
       "       [3.16172221],\n",
       "       [3.20111986],\n",
       "       [3.20111986],\n",
       "       [3.10919201],\n",
       "       [3.17485476],\n",
       "       [3.14858966],\n",
       "       [3.20111986],\n",
       "       [3.20111986],\n",
       "       [3.13545711],\n",
       "       [3.17485476],\n",
       "       [3.20111986],\n",
       "       [3.20111986],\n",
       "       [3.20111986],\n",
       "       [3.20111986],\n",
       "       [3.20111986],\n",
       "       [3.13545711],\n",
       "       [3.20111986],\n",
       "       [3.22738497],\n",
       "       [3.0041316 ],\n",
       "       [3.13545711],\n",
       "       [3.20111986],\n",
       "       [3.20111986],\n",
       "       [3.06979435],\n",
       "       [3.10919201],\n",
       "       [3.17485476],\n",
       "       [3.20111986],\n",
       "       [3.0041316 ],\n",
       "       [3.0041316 ],\n",
       "       [3.13545711],\n",
       "       [3.16172221],\n",
       "       [3.0041316 ],\n",
       "       [3.29304772],\n",
       "       [3.17485476],\n",
       "       [3.33244537],\n",
       "       [3.22738497],\n",
       "       [3.20111986],\n",
       "       [3.27991517],\n",
       "       [3.17485476],\n",
       "       [3.20111986],\n",
       "       [3.27991517],\n",
       "       [3.20111986],\n",
       "       [3.13545711],\n",
       "       [3.17485476],\n",
       "       [3.20111986],\n",
       "       [3.33244537],\n",
       "       [3.20111986],\n",
       "       [3.20111986],\n",
       "       [3.20111986],\n",
       "       [3.22738497],\n",
       "       [3.33244537],\n",
       "       [3.17485476],\n",
       "       [3.26678262],\n",
       "       [3.20111986],\n",
       "       [3.13545711],\n",
       "       [3.01726415],\n",
       "       [3.20111986],\n",
       "       [3.25365007],\n",
       "       [3.22738497],\n",
       "       [3.17485476],\n",
       "       [3.13545711],\n",
       "       [3.13545711],\n",
       "       [3.20111986],\n",
       "       [3.26678262],\n",
       "       [3.17485476],\n",
       "       [3.20111986],\n",
       "       [3.20111986],\n",
       "       [3.13545711],\n",
       "       [3.25365007],\n",
       "       [3.20111986],\n",
       "       [3.20111986],\n",
       "       [3.30618027],\n",
       "       [3.20111986],\n",
       "       [3.20111986],\n",
       "       [3.17485476],\n",
       "       [3.13545711],\n",
       "       [3.16172221],\n",
       "       [3.20111986],\n",
       "       [3.22738497],\n",
       "       [3.20111986],\n",
       "       [3.18798731],\n",
       "       [3.17485476],\n",
       "       [3.09605946],\n",
       "       [3.16172221],\n",
       "       [3.20111986],\n",
       "       [3.26678262],\n",
       "       [3.20111986],\n",
       "       [3.20111986],\n",
       "       [3.20111986],\n",
       "       [3.13545711],\n",
       "       [3.13545711],\n",
       "       [3.17485476],\n",
       "       [3.22738497],\n",
       "       [3.20111986],\n",
       "       [3.06979435],\n",
       "       [3.17485476],\n",
       "       [3.14858966],\n",
       "       [3.20111986],\n",
       "       [3.26678262],\n",
       "       [3.20111986],\n",
       "       [3.26678262],\n",
       "       [3.13545711],\n",
       "       [3.13545711],\n",
       "       [3.33244537],\n",
       "       [3.22738497],\n",
       "       [3.24051752],\n",
       "       [3.20111986],\n",
       "       [3.27991517],\n",
       "       [3.20111986],\n",
       "       [3.20111986],\n",
       "       [3.13545711],\n",
       "       [3.20111986],\n",
       "       [3.0041316 ],\n",
       "       [3.20111986],\n",
       "       [3.13545711],\n",
       "       [3.16172221],\n",
       "       [3.12232456],\n",
       "       [3.14858966],\n",
       "       [3.13545711],\n",
       "       [3.13545711],\n",
       "       [3.15515593],\n",
       "       [3.13545711],\n",
       "       [3.14858966],\n",
       "       [3.20111986],\n",
       "       [3.20111986],\n",
       "       [3.06979435],\n",
       "       [3.06979435],\n",
       "       [3.31931282],\n",
       "       [3.20111986],\n",
       "       [3.13545711],\n",
       "       [2.92533629],\n",
       "       [3.17485476],\n",
       "       [3.20111986],\n",
       "       [3.17485476],\n",
       "       [3.20111986],\n",
       "       [3.20111986],\n",
       "       [3.0041316 ],\n",
       "       [3.22738497],\n",
       "       [3.29304772],\n",
       "       [3.17485476],\n",
       "       [3.13545711],\n",
       "       [3.20111986],\n",
       "       [3.04352925],\n",
       "       [3.09605946],\n",
       "       [3.17485476],\n",
       "       [3.20111986],\n",
       "       [3.30618027],\n",
       "       [3.33244537],\n",
       "       [2.80714333],\n",
       "       [3.10919201],\n",
       "       [3.06979435],\n",
       "       [3.13545711],\n",
       "       [3.20111986],\n",
       "       [3.17485476],\n",
       "       [3.12232456],\n",
       "       [3.0041316 ],\n",
       "       [3.20111986],\n",
       "       [3.20111986],\n",
       "       [3.13545711],\n",
       "       [3.20111986],\n",
       "       [3.20111986],\n",
       "       [3.20111986],\n",
       "       [3.20111986],\n",
       "       [3.17485476],\n",
       "       [3.20111986],\n",
       "       [3.20111986],\n",
       "       [3.20111986],\n",
       "       [3.27991517],\n",
       "       [3.20111986],\n",
       "       [3.17485476],\n",
       "       [3.10919201],\n",
       "       [3.24051752],\n",
       "       [3.24051752],\n",
       "       [3.20111986],\n",
       "       [3.06979435],\n",
       "       [3.26678262],\n",
       "       [3.13545711],\n",
       "       [3.26678262],\n",
       "       [3.20111986],\n",
       "       [3.09605946],\n",
       "       [3.39810813],\n",
       "       [3.20111986],\n",
       "       [3.20111986],\n",
       "       [3.13545711],\n",
       "       [3.20111986],\n",
       "       [3.17485476],\n",
       "       [3.20111986],\n",
       "       [3.04352925],\n",
       "       [3.20111986],\n",
       "       [3.20111986],\n",
       "       [3.20111986],\n",
       "       [3.20111986],\n",
       "       [3.06979435],\n",
       "       [3.06979435],\n",
       "       [3.17485476],\n",
       "       [3.0041316 ],\n",
       "       [3.20111986],\n",
       "       [3.29304772],\n",
       "       [3.22738497],\n",
       "       [3.33244537],\n",
       "       [3.20111986],\n",
       "       [3.22738497],\n",
       "       [3.20111986],\n",
       "       [3.09605946],\n",
       "       [2.9778665 ],\n",
       "       [3.09605946],\n",
       "       [3.20111986],\n",
       "       [2.96473395],\n",
       "       [3.20111986],\n",
       "       [3.20111986],\n",
       "       [3.14858966],\n",
       "       [2.95160139],\n",
       "       [3.20111986],\n",
       "       [3.20111986],\n",
       "       [3.17485476],\n",
       "       [3.17485476],\n",
       "       [3.20111986],\n",
       "       [2.96473395],\n",
       "       [3.17485476],\n",
       "       [3.26678262],\n",
       "       [3.10919201],\n",
       "       [3.20111986],\n",
       "       [3.17485476],\n",
       "       [3.20111986],\n",
       "       [3.20111986],\n",
       "       [3.27991517],\n",
       "       [3.20111986],\n",
       "       [3.20111986],\n",
       "       [3.20111986],\n",
       "       [3.20111986],\n",
       "       [3.20111986],\n",
       "       [3.20111986],\n",
       "       [3.13545711],\n",
       "       [3.33244537],\n",
       "       [3.20111986],\n",
       "       [3.20111986],\n",
       "       [3.16172221],\n",
       "       [3.20111986],\n",
       "       [3.20111986],\n",
       "       [3.22738497],\n",
       "       [2.93846884],\n",
       "       [3.13545711],\n",
       "       [3.20111986],\n",
       "       [3.22738497],\n",
       "       [3.20111986],\n",
       "       [3.20111986],\n",
       "       [3.39810813],\n",
       "       [3.20111986],\n",
       "       [3.06979435],\n",
       "       [3.20111986],\n",
       "       [3.20111986],\n",
       "       [3.06979435],\n",
       "       [3.20111986],\n",
       "       [3.20111986],\n",
       "       [3.33244537],\n",
       "       [2.96473395],\n",
       "       [3.20111986],\n",
       "       [3.13545711],\n",
       "       [3.17485476],\n",
       "       [3.06979435],\n",
       "       [3.14858966],\n",
       "       [3.20111986],\n",
       "       [3.18798731],\n",
       "       [2.93846884],\n",
       "       [3.0041316 ],\n",
       "       [3.20111986],\n",
       "       [3.20111986],\n",
       "       [3.20111986],\n",
       "       [3.20111986],\n",
       "       [3.20111986],\n",
       "       [3.20111986],\n",
       "       [3.24051752],\n",
       "       [3.0041316 ],\n",
       "       [3.20111986],\n",
       "       [3.33244537],\n",
       "       [3.20111986],\n",
       "       [3.20111986],\n",
       "       [3.17485476],\n",
       "       [3.29304772],\n",
       "       [3.17485476],\n",
       "       [3.17485476],\n",
       "       [3.26678262],\n",
       "       [3.20111986],\n",
       "       [3.10919201],\n",
       "       [3.14858966],\n",
       "       [3.20111986],\n",
       "       [3.35871048],\n",
       "       [3.13545711],\n",
       "       [3.30618027],\n",
       "       [3.13545711],\n",
       "       [3.18798731],\n",
       "       [3.09605946],\n",
       "       [3.20111986],\n",
       "       [3.13545711],\n",
       "       [3.31931282],\n",
       "       [3.13545711],\n",
       "       [3.20111986],\n",
       "       [3.04352925],\n",
       "       [3.20111986],\n",
       "       [3.20111986],\n",
       "       [3.17485476],\n",
       "       [3.20111986],\n",
       "       [3.26678262],\n",
       "       [3.20111986],\n",
       "       [3.20111986],\n",
       "       [3.10919201],\n",
       "       [3.26678262],\n",
       "       [3.13545711],\n",
       "       [3.13545711],\n",
       "       [3.06979435],\n",
       "       [2.93846884],\n",
       "       [3.14858966],\n",
       "       [3.13545711],\n",
       "       [3.20111986],\n",
       "       [3.14858966],\n",
       "       [3.20111986],\n",
       "       [3.26678262],\n",
       "       [3.13545711],\n",
       "       [3.13545711],\n",
       "       [3.13545711],\n",
       "       [3.20111986],\n",
       "       [3.0041316 ],\n",
       "       [3.13545711],\n",
       "       [3.24051752],\n",
       "       [3.06979435],\n",
       "       [3.12232456],\n",
       "       [3.20111986],\n",
       "       [3.04352925],\n",
       "       [3.12232456],\n",
       "       [3.20111986],\n",
       "       [3.13545711]])"
      ]
     },
     "execution_count": 38,
     "metadata": {},
     "output_type": "execute_result"
    }
   ],
   "source": [
    "y_predicted"
   ]
  },
  {
   "cell_type": "code",
   "execution_count": 39,
   "id": "4864b913",
   "metadata": {},
   "outputs": [
    {
     "data": {
      "text/html": [
       "<div>\n",
       "<style scoped>\n",
       "    .dataframe tbody tr th:only-of-type {\n",
       "        vertical-align: middle;\n",
       "    }\n",
       "\n",
       "    .dataframe tbody tr th {\n",
       "        vertical-align: top;\n",
       "    }\n",
       "\n",
       "    .dataframe thead th {\n",
       "        text-align: right;\n",
       "    }\n",
       "</style>\n",
       "<table border=\"1\" class=\"dataframe\">\n",
       "  <thead>\n",
       "    <tr style=\"text-align: right;\">\n",
       "      <th></th>\n",
       "      <th>Actual</th>\n",
       "      <th>Predicted</th>\n",
       "    </tr>\n",
       "  </thead>\n",
       "  <tbody>\n",
       "    <tr>\n",
       "      <th>0</th>\n",
       "      <td>2.50</td>\n",
       "      <td>3.135457</td>\n",
       "    </tr>\n",
       "    <tr>\n",
       "      <th>1</th>\n",
       "      <td>2.75</td>\n",
       "      <td>3.174855</td>\n",
       "    </tr>\n",
       "    <tr>\n",
       "      <th>2</th>\n",
       "      <td>2.50</td>\n",
       "      <td>3.201120</td>\n",
       "    </tr>\n",
       "    <tr>\n",
       "      <th>3</th>\n",
       "      <td>3.25</td>\n",
       "      <td>3.201120</td>\n",
       "    </tr>\n",
       "    <tr>\n",
       "      <th>4</th>\n",
       "      <td>3.25</td>\n",
       "      <td>3.069794</td>\n",
       "    </tr>\n",
       "    <tr>\n",
       "      <th>5</th>\n",
       "      <td>2.75</td>\n",
       "      <td>3.398108</td>\n",
       "    </tr>\n",
       "    <tr>\n",
       "      <th>6</th>\n",
       "      <td>3.50</td>\n",
       "      <td>3.201120</td>\n",
       "    </tr>\n",
       "    <tr>\n",
       "      <th>7</th>\n",
       "      <td>2.50</td>\n",
       "      <td>3.135457</td>\n",
       "    </tr>\n",
       "    <tr>\n",
       "      <th>8</th>\n",
       "      <td>3.50</td>\n",
       "      <td>3.253650</td>\n",
       "    </tr>\n",
       "    <tr>\n",
       "      <th>9</th>\n",
       "      <td>3.50</td>\n",
       "      <td>3.266783</td>\n",
       "    </tr>\n",
       "    <tr>\n",
       "      <th>10</th>\n",
       "      <td>2.75</td>\n",
       "      <td>3.279915</td>\n",
       "    </tr>\n",
       "    <tr>\n",
       "      <th>11</th>\n",
       "      <td>3.50</td>\n",
       "      <td>3.201120</td>\n",
       "    </tr>\n",
       "    <tr>\n",
       "      <th>12</th>\n",
       "      <td>3.00</td>\n",
       "      <td>3.266783</td>\n",
       "    </tr>\n",
       "    <tr>\n",
       "      <th>13</th>\n",
       "      <td>3.50</td>\n",
       "      <td>3.201120</td>\n",
       "    </tr>\n",
       "    <tr>\n",
       "      <th>14</th>\n",
       "      <td>3.25</td>\n",
       "      <td>3.135457</td>\n",
       "    </tr>\n",
       "    <tr>\n",
       "      <th>15</th>\n",
       "      <td>2.75</td>\n",
       "      <td>3.069794</td>\n",
       "    </tr>\n",
       "    <tr>\n",
       "      <th>16</th>\n",
       "      <td>1.50</td>\n",
       "      <td>3.004132</td>\n",
       "    </tr>\n",
       "    <tr>\n",
       "      <th>17</th>\n",
       "      <td>3.00</td>\n",
       "      <td>3.174855</td>\n",
       "    </tr>\n",
       "    <tr>\n",
       "      <th>18</th>\n",
       "      <td>2.75</td>\n",
       "      <td>3.201120</td>\n",
       "    </tr>\n",
       "    <tr>\n",
       "      <th>19</th>\n",
       "      <td>3.75</td>\n",
       "      <td>3.201120</td>\n",
       "    </tr>\n",
       "    <tr>\n",
       "      <th>20</th>\n",
       "      <td>3.00</td>\n",
       "      <td>3.201120</td>\n",
       "    </tr>\n",
       "    <tr>\n",
       "      <th>21</th>\n",
       "      <td>3.50</td>\n",
       "      <td>3.161722</td>\n",
       "    </tr>\n",
       "    <tr>\n",
       "      <th>22</th>\n",
       "      <td>2.75</td>\n",
       "      <td>3.398108</td>\n",
       "    </tr>\n",
       "    <tr>\n",
       "      <th>23</th>\n",
       "      <td>3.00</td>\n",
       "      <td>2.807143</td>\n",
       "    </tr>\n",
       "    <tr>\n",
       "      <th>24</th>\n",
       "      <td>3.00</td>\n",
       "      <td>3.332445</td>\n",
       "    </tr>\n",
       "    <tr>\n",
       "      <th>25</th>\n",
       "      <td>3.00</td>\n",
       "      <td>3.135457</td>\n",
       "    </tr>\n",
       "    <tr>\n",
       "      <th>26</th>\n",
       "      <td>3.00</td>\n",
       "      <td>3.135457</td>\n",
       "    </tr>\n",
       "    <tr>\n",
       "      <th>27</th>\n",
       "      <td>3.50</td>\n",
       "      <td>3.227385</td>\n",
       "    </tr>\n",
       "    <tr>\n",
       "      <th>28</th>\n",
       "      <td>3.00</td>\n",
       "      <td>3.201120</td>\n",
       "    </tr>\n",
       "    <tr>\n",
       "      <th>29</th>\n",
       "      <td>3.75</td>\n",
       "      <td>3.227385</td>\n",
       "    </tr>\n",
       "  </tbody>\n",
       "</table>\n",
       "</div>"
      ],
      "text/plain": [
       "    Actual  Predicted\n",
       "0     2.50   3.135457\n",
       "1     2.75   3.174855\n",
       "2     2.50   3.201120\n",
       "3     3.25   3.201120\n",
       "4     3.25   3.069794\n",
       "5     2.75   3.398108\n",
       "6     3.50   3.201120\n",
       "7     2.50   3.135457\n",
       "8     3.50   3.253650\n",
       "9     3.50   3.266783\n",
       "10    2.75   3.279915\n",
       "11    3.50   3.201120\n",
       "12    3.00   3.266783\n",
       "13    3.50   3.201120\n",
       "14    3.25   3.135457\n",
       "15    2.75   3.069794\n",
       "16    1.50   3.004132\n",
       "17    3.00   3.174855\n",
       "18    2.75   3.201120\n",
       "19    3.75   3.201120\n",
       "20    3.00   3.201120\n",
       "21    3.50   3.161722\n",
       "22    2.75   3.398108\n",
       "23    3.00   2.807143\n",
       "24    3.00   3.332445\n",
       "25    3.00   3.135457\n",
       "26    3.00   3.135457\n",
       "27    3.50   3.227385\n",
       "28    3.00   3.201120\n",
       "29    3.75   3.227385"
      ]
     },
     "execution_count": 39,
     "metadata": {},
     "output_type": "execute_result"
    }
   ],
   "source": [
    "# Create a dataframe comparing the actual and predicted values of y.\n",
    "\n",
    "data = pd.DataFrame({'Actual': y_test.flatten(), 'Predicted': y_predicted.flatten()})\n",
    "data.head(30)"
   ]
  },
  {
   "cell_type": "markdown",
   "id": "23cccbad",
   "metadata": {},
   "source": [
    "##### Compare how the regression fits the training set"
   ]
  },
  {
   "cell_type": "code",
   "execution_count": 40,
   "id": "e9e92c1d",
   "metadata": {},
   "outputs": [],
   "source": [
    "# Predict.\n",
    "\n",
    "y_predicted_train = regression.predict(X_train)"
   ]
  },
  {
   "cell_type": "code",
   "execution_count": 41,
   "id": "53d6fa01",
   "metadata": {},
   "outputs": [],
   "source": [
    "rmse = mean_squared_error(y_train, y_predicted_train)\n",
    "r2 = r2_score(y_train, y_predicted_train)"
   ]
  },
  {
   "cell_type": "code",
   "execution_count": 42,
   "id": "f27a308c",
   "metadata": {},
   "outputs": [
    {
     "name": "stdout",
     "output_type": "stream",
     "text": [
      "Slope: [[-1.3132551]]\n",
      "Mean squared error:  0.22774918296663346\n",
      "R2 score:  0.029784249226460058\n"
     ]
    }
   ],
   "source": [
    "print('Slope:' ,regression.coef_)\n",
    "print('Mean squared error: ', rmse)\n",
    "print('R2 score: ', r2)"
   ]
  },
  {
   "cell_type": "code",
   "execution_count": 43,
   "id": "e20fe829",
   "metadata": {},
   "outputs": [
    {
     "data": {
      "image/png": "[encoded data removed]",
      "text/plain": [
       "<Figure size 640x480 with 1 Axes>"
      ]
     },
     "metadata": {},
     "output_type": "display_data"
    }
   ],
   "source": [
    "# Visualizing the training set results.\n",
    "\n",
    "plot_test = plt\n",
    "plot_test.scatter(X_train, y_train, color='gray', s = 15)\n",
    "plot_test.plot(X_train, y_predicted_train, color='red', linewidth =3)\n",
    "plot_test.title('Cocoa Percentage vs Rating (Train set)')\n",
    "plot_test.xlabel('Cocoa Percentage')\n",
    "plot_test.ylabel('Rating')\n",
    "plot_test.show()"
   ]
  },
  {
   "cell_type": "markdown",
   "id": "c2773da7",
   "metadata": {},
   "source": [
    "### <font color ='teal'>  * The model fits the training set only slightly better than the test set. </font>\n",
    "### <font color ='teal'> * For both models, the R2 score is very low, which shows the the model is a poor fit and the relationship of the data variables is not purely linear. </font>\n",
    "\n"
   ]
  },
  {
   "cell_type": "markdown",
   "id": "337ef0a0",
   "metadata": {},
   "source": [
    "### Bonus: performance improvement after removing outliers"
   ]
  },
  {
   "cell_type": "code",
   "execution_count": 44,
   "id": "dad8173b",
   "metadata": {},
   "outputs": [],
   "source": [
    "# Clean the extreme values from the \"Price per Unit\" variable observed during the consistency checks.\n",
    "\n",
    "df_test = df_choc_clean[df_choc_clean['Rating'] <=4] "
   ]
  },
  {
   "cell_type": "code",
   "execution_count": 45,
   "id": "90d8c780",
   "metadata": {},
   "outputs": [
    {
     "data": {
      "image/png": "[encoded data removed]",
      "text/plain": [
       "<Figure size 640x480 with 1 Axes>"
      ]
     },
     "metadata": {},
     "output_type": "display_data"
    }
   ],
   "source": [
    "# See how the scatterplot looks without outliers.\n",
    "\n",
    "df_test.plot(x = 'Cocoa_percentage', y='Rating', style='o')  \n",
    "plt.title('Cocoa Percentage vs Rating')  \n",
    "plt.xlabel('Cocoa Percentage')  \n",
    "plt.ylabel('Rating')  \n",
    "plt.show()"
   ]
  },
  {
   "cell_type": "code",
   "execution_count": 47,
   "id": "e69a103b",
   "metadata": {},
   "outputs": [],
   "source": [
    "# Reshape again.\n",
    "\n",
    "X_2 = df_test['Cocoa_percentage'].values.reshape(-1,1)\n",
    "y_2 = df_test['Rating'].values.reshape(-1,1)"
   ]
  },
  {
   "cell_type": "code",
   "execution_count": 48,
   "id": "a966a972",
   "metadata": {},
   "outputs": [],
   "source": [
    "X_train_2, X_test_2, y_train_2, y_test_2 = train_test_split(X_2, y_2, test_size=0.3, random_state=0)"
   ]
  },
  {
   "cell_type": "code",
   "execution_count": 49,
   "id": "b5dc73be",
   "metadata": {},
   "outputs": [
    {
     "data": {
      "text/html": [
       "<style>#sk-container-id-2 {color: black;background-color: white;}#sk-container-id-2 pre{padding: 0;}#sk-container-id-2 div.sk-toggleable {background-color: white;}#sk-container-id-2 label.sk-toggleable__label {cursor: pointer;display: block;width: 100%;margin-bottom: 0;padding: 0.3em;box-sizing: border-box;text-align: center;}#sk-container-id-2 label.sk-toggleable__label-arrow:before {content: \"▸\";float: left;margin-right: 0.25em;color: #696969;}#sk-container-id-2 label.sk-toggleable__label-arrow:hover:before {color: black;}#sk-container-id-2 div.sk-estimator:hover label.sk-toggleable__label-arrow:before {color: black;}#sk-container-id-2 div.sk-toggleable__content {max-height: 0;max-width: 0;overflow: hidden;text-align: left;background-color: #f0f8ff;}#sk-container-id-2 div.sk-toggleable__content pre {margin: 0.2em;color: black;border-radius: 0.25em;background-color: #f0f8ff;}#sk-container-id-2 input.sk-toggleable__control:checked~div.sk-toggleable__content {max-height: 200px;max-width: 100%;overflow: auto;}#sk-container-id-2 input.sk-toggleable__control:checked~label.sk-toggleable__label-arrow:before {content: \"▾\";}#sk-container-id-2 div.sk-estimator input.sk-toggleable__control:checked~label.sk-toggleable__label {background-color: #d4ebff;}#sk-container-id-2 div.sk-label input.sk-toggleable__control:checked~label.sk-toggleable__label {background-color: #d4ebff;}#sk-container-id-2 input.sk-hidden--visually {border: 0;clip: rect(1px 1px 1px 1px);clip: rect(1px, 1px, 1px, 1px);height: 1px;margin: -1px;overflow: hidden;padding: 0;position: absolute;width: 1px;}#sk-container-id-2 div.sk-estimator {font-family: monospace;background-color: #f0f8ff;border: 1px dotted black;border-radius: 0.25em;box-sizing: border-box;margin-bottom: 0.5em;}#sk-container-id-2 div.sk-estimator:hover {background-color: #d4ebff;}#sk-container-id-2 div.sk-parallel-item::after {content: \"\";width: 100%;border-bottom: 1px solid gray;flex-grow: 1;}#sk-container-id-2 div.sk-label:hover label.sk-toggleable__label {background-color: #d4ebff;}#sk-container-id-2 div.sk-serial::before {content: \"\";position: absolute;border-left: 1px solid gray;box-sizing: border-box;top: 0;bottom: 0;left: 50%;z-index: 0;}#sk-container-id-2 div.sk-serial {display: flex;flex-direction: column;align-items: center;background-color: white;padding-right: 0.2em;padding-left: 0.2em;position: relative;}#sk-container-id-2 div.sk-item {position: relative;z-index: 1;}#sk-container-id-2 div.sk-parallel {display: flex;align-items: stretch;justify-content: center;background-color: white;position: relative;}#sk-container-id-2 div.sk-item::before, #sk-container-id-2 div.sk-parallel-item::before {content: \"\";position: absolute;border-left: 1px solid gray;box-sizing: border-box;top: 0;bottom: 0;left: 50%;z-index: -1;}#sk-container-id-2 div.sk-parallel-item {display: flex;flex-direction: column;z-index: 1;position: relative;background-color: white;}#sk-container-id-2 div.sk-parallel-item:first-child::after {align-self: flex-end;width: 50%;}#sk-container-id-2 div.sk-parallel-item:last-child::after {align-self: flex-start;width: 50%;}#sk-container-id-2 div.sk-parallel-item:only-child::after {width: 0;}#sk-container-id-2 div.sk-dashed-wrapped {border: 1px dashed gray;margin: 0 0.4em 0.5em 0.4em;box-sizing: border-box;padding-bottom: 0.4em;background-color: white;}#sk-container-id-2 div.sk-label label {font-family: monospace;font-weight: bold;display: inline-block;line-height: 1.2em;}#sk-container-id-2 div.sk-label-container {text-align: center;}#sk-container-id-2 div.sk-container {/* jupyter's `normalize.less` sets `[hidden] { display: none; }` but bootstrap.min.css set `[hidden] { display: none !important; }` so we also need the `!important` here to be able to override the default hidden behavior on the sphinx rendered scikit-learn.org. See: https://github.com/scikit-learn/scikit-learn/issues/21755 */display: inline-block !important;position: relative;}#sk-container-id-2 div.sk-text-repr-fallback {display: none;}</style><div id=\"sk-container-id-2\" class=\"sk-top-container\"><div class=\"sk-text-repr-fallback\"><pre>LinearRegression()</pre><b>In a Jupyter environment, please rerun this cell to show the HTML representation or trust the notebook. <br />On GitHub, the HTML representation is unable to render, please try loading this page with nbviewer.org.</b></div><div class=\"sk-container\" hidden><div class=\"sk-item\"><div class=\"sk-estimator sk-toggleable\"><input class=\"sk-toggleable__control sk-hidden--visually\" id=\"sk-estimator-id-2\" type=\"checkbox\" checked><label for=\"sk-estimator-id-2\" class=\"sk-toggleable__label sk-toggleable__label-arrow\">LinearRegression</label><div class=\"sk-toggleable__content\"><pre>LinearRegression()</pre></div></div></div></div></div>"
      ],
      "text/plain": [
       "LinearRegression()"
      ]
     },
     "execution_count": 49,
     "metadata": {},
     "output_type": "execute_result"
    }
   ],
   "source": [
    "# Run and fit the regression.\n",
    "\n",
    "regression = LinearRegression()  \n",
    "regression.fit(X_train_2, y_train_2)"
   ]
  },
  {
   "cell_type": "code",
   "execution_count": 50,
   "id": "220307f4",
   "metadata": {},
   "outputs": [],
   "source": [
    "# Predict.\n",
    "\n",
    "y_predicted_2 = regression.predict(X_test_2)"
   ]
  },
  {
   "cell_type": "code",
   "execution_count": 51,
   "id": "d46fb64c",
   "metadata": {},
   "outputs": [],
   "source": [
    "rmse = mean_squared_error(y_test_2, y_predicted_2)\n",
    "r2 = r2_score(y_test_2, y_predicted_2)"
   ]
  },
  {
   "cell_type": "code",
   "execution_count": 52,
   "id": "2712ef40",
   "metadata": {},
   "outputs": [
    {
     "name": "stdout",
     "output_type": "stream",
     "text": [
      "Slope: [[-1.50440856]]\n",
      "Mean squared error:  0.21270940898527144\n",
      "R2 score:  -0.013664740470597181\n"
     ]
    }
   ],
   "source": [
    "print('Slope:' ,regression.coef_)\n",
    "print('Mean squared error: ', rmse)\n",
    "print('R2 score: ', r2)"
   ]
  },
  {
   "cell_type": "code",
   "execution_count": 53,
   "id": "423121ee",
   "metadata": {},
   "outputs": [
    {
     "data": {
      "image/png": "[encoded data removed]",
      "text/plain": [
       "<Figure size 640x480 with 1 Axes>"
      ]
     },
     "metadata": {},
     "output_type": "display_data"
    }
   ],
   "source": [
    "# Visualizing the test set results.\n",
    "plot_test = plt\n",
    "plot_test.scatter(X_test_2, y_test_2, color='gray', s = 15)\n",
    "plot_test.plot(X_test_2, y_predicted_2, color='red', linewidth =3)\n",
    "plot_test.title('Cocoa Percentage vs Rating (Test set)')\n",
    "plot_test.xlabel('Cocoa Percenatge')\n",
    "plot_test.ylabel('Rating')\n",
    "plot_test.show()"
   ]
  },
  {
   "cell_type": "code",
   "execution_count": 54,
   "id": "bbd06095",
   "metadata": {},
   "outputs": [
    {
     "data": {
      "text/html": [
       "<div>\n",
       "<style scoped>\n",
       "    .dataframe tbody tr th:only-of-type {\n",
       "        vertical-align: middle;\n",
       "    }\n",
       "\n",
       "    .dataframe tbody tr th {\n",
       "        vertical-align: top;\n",
       "    }\n",
       "\n",
       "    .dataframe thead th {\n",
       "        text-align: right;\n",
       "    }\n",
       "</style>\n",
       "<table border=\"1\" class=\"dataframe\">\n",
       "  <thead>\n",
       "    <tr style=\"text-align: right;\">\n",
       "      <th></th>\n",
       "      <th>Actual</th>\n",
       "      <th>Predicted</th>\n",
       "    </tr>\n",
       "  </thead>\n",
       "  <tbody>\n",
       "    <tr>\n",
       "      <th>0</th>\n",
       "      <td>3.50</td>\n",
       "      <td>3.293578</td>\n",
       "    </tr>\n",
       "    <tr>\n",
       "      <th>1</th>\n",
       "      <td>3.50</td>\n",
       "      <td>3.128093</td>\n",
       "    </tr>\n",
       "    <tr>\n",
       "      <th>2</th>\n",
       "      <td>2.75</td>\n",
       "      <td>3.248446</td>\n",
       "    </tr>\n",
       "    <tr>\n",
       "      <th>3</th>\n",
       "      <td>3.75</td>\n",
       "      <td>3.203314</td>\n",
       "    </tr>\n",
       "    <tr>\n",
       "      <th>4</th>\n",
       "      <td>2.75</td>\n",
       "      <td>3.158182</td>\n",
       "    </tr>\n",
       "    <tr>\n",
       "      <th>5</th>\n",
       "      <td>3.50</td>\n",
       "      <td>3.278534</td>\n",
       "    </tr>\n",
       "    <tr>\n",
       "      <th>6</th>\n",
       "      <td>3.00</td>\n",
       "      <td>3.128093</td>\n",
       "    </tr>\n",
       "    <tr>\n",
       "      <th>7</th>\n",
       "      <td>3.75</td>\n",
       "      <td>3.173226</td>\n",
       "    </tr>\n",
       "    <tr>\n",
       "      <th>8</th>\n",
       "      <td>3.00</td>\n",
       "      <td>3.128093</td>\n",
       "    </tr>\n",
       "    <tr>\n",
       "      <th>9</th>\n",
       "      <td>3.25</td>\n",
       "      <td>3.203314</td>\n",
       "    </tr>\n",
       "    <tr>\n",
       "      <th>10</th>\n",
       "      <td>3.50</td>\n",
       "      <td>3.233402</td>\n",
       "    </tr>\n",
       "    <tr>\n",
       "      <th>11</th>\n",
       "      <td>3.00</td>\n",
       "      <td>3.128093</td>\n",
       "    </tr>\n",
       "    <tr>\n",
       "      <th>12</th>\n",
       "      <td>3.25</td>\n",
       "      <td>3.173226</td>\n",
       "    </tr>\n",
       "    <tr>\n",
       "      <th>13</th>\n",
       "      <td>3.50</td>\n",
       "      <td>3.203314</td>\n",
       "    </tr>\n",
       "    <tr>\n",
       "      <th>14</th>\n",
       "      <td>2.25</td>\n",
       "      <td>3.143138</td>\n",
       "    </tr>\n",
       "    <tr>\n",
       "      <th>15</th>\n",
       "      <td>2.50</td>\n",
       "      <td>3.203314</td>\n",
       "    </tr>\n",
       "    <tr>\n",
       "      <th>16</th>\n",
       "      <td>2.50</td>\n",
       "      <td>3.263490</td>\n",
       "    </tr>\n",
       "    <tr>\n",
       "      <th>17</th>\n",
       "      <td>3.50</td>\n",
       "      <td>3.203314</td>\n",
       "    </tr>\n",
       "    <tr>\n",
       "      <th>18</th>\n",
       "      <td>2.50</td>\n",
       "      <td>3.173226</td>\n",
       "    </tr>\n",
       "    <tr>\n",
       "      <th>19</th>\n",
       "      <td>2.75</td>\n",
       "      <td>3.203314</td>\n",
       "    </tr>\n",
       "    <tr>\n",
       "      <th>20</th>\n",
       "      <td>3.50</td>\n",
       "      <td>3.428975</td>\n",
       "    </tr>\n",
       "    <tr>\n",
       "      <th>21</th>\n",
       "      <td>2.75</td>\n",
       "      <td>3.203314</td>\n",
       "    </tr>\n",
       "    <tr>\n",
       "      <th>22</th>\n",
       "      <td>2.75</td>\n",
       "      <td>3.218358</td>\n",
       "    </tr>\n",
       "    <tr>\n",
       "      <th>23</th>\n",
       "      <td>3.25</td>\n",
       "      <td>3.098005</td>\n",
       "    </tr>\n",
       "    <tr>\n",
       "      <th>24</th>\n",
       "      <td>2.75</td>\n",
       "      <td>3.052873</td>\n",
       "    </tr>\n",
       "    <tr>\n",
       "      <th>25</th>\n",
       "      <td>3.50</td>\n",
       "      <td>3.143138</td>\n",
       "    </tr>\n",
       "    <tr>\n",
       "      <th>26</th>\n",
       "      <td>3.25</td>\n",
       "      <td>3.203314</td>\n",
       "    </tr>\n",
       "    <tr>\n",
       "      <th>27</th>\n",
       "      <td>3.50</td>\n",
       "      <td>3.052873</td>\n",
       "    </tr>\n",
       "    <tr>\n",
       "      <th>28</th>\n",
       "      <td>3.25</td>\n",
       "      <td>3.203314</td>\n",
       "    </tr>\n",
       "    <tr>\n",
       "      <th>29</th>\n",
       "      <td>3.75</td>\n",
       "      <td>3.233402</td>\n",
       "    </tr>\n",
       "  </tbody>\n",
       "</table>\n",
       "</div>"
      ],
      "text/plain": [
       "    Actual  Predicted\n",
       "0     3.50   3.293578\n",
       "1     3.50   3.128093\n",
       "2     2.75   3.248446\n",
       "3     3.75   3.203314\n",
       "4     2.75   3.158182\n",
       "5     3.50   3.278534\n",
       "6     3.00   3.128093\n",
       "7     3.75   3.173226\n",
       "8     3.00   3.128093\n",
       "9     3.25   3.203314\n",
       "10    3.50   3.233402\n",
       "11    3.00   3.128093\n",
       "12    3.25   3.173226\n",
       "13    3.50   3.203314\n",
       "14    2.25   3.143138\n",
       "15    2.50   3.203314\n",
       "16    2.50   3.263490\n",
       "17    3.50   3.203314\n",
       "18    2.50   3.173226\n",
       "19    2.75   3.203314\n",
       "20    3.50   3.428975\n",
       "21    2.75   3.203314\n",
       "22    2.75   3.218358\n",
       "23    3.25   3.098005\n",
       "24    2.75   3.052873\n",
       "25    3.50   3.143138\n",
       "26    3.25   3.203314\n",
       "27    3.50   3.052873\n",
       "28    3.25   3.203314\n",
       "29    3.75   3.233402"
      ]
     },
     "execution_count": 54,
     "metadata": {},
     "output_type": "execute_result"
    }
   ],
   "source": [
    "data = pd.DataFrame({'Actual': y_test_2.flatten(), 'Predicted': y_predicted_2.flatten()})\n",
    "data.head(30)"
   ]
  },
  {
   "cell_type": "markdown",
   "id": "1d8c0cfe",
   "metadata": {},
   "source": [
    "## <font color ='teal'> Since our analysis does not prove to give us a linear relationship between the chosen variables and therefore can be concluded as inaccurate - we can therefore rule out our hypothesis that \" Chocolate bars with higher cocoa percentage will have higher ratings\". </font>"
   ]
  },
  {
   "cell_type": "code",
   "execution_count": null,
   "id": "6d3971cd",
   "metadata": {},
   "outputs": [],
   "source": []
  }
 ],
 "metadata": {
  "kernelspec": {
   "display_name": "Python 3 (ipykernel)",
   "language": "python",
   "name": "python3"
  },
  "language_info": {
   "codemirror_mode": {
    "name": "ipython",
    "version": 3
   },
   "file_extension": ".py",
   "mimetype": "text/x-python",
   "name": "python",
   "nbconvert_exporter": "python",
   "pygments_lexer": "ipython3",
   "version": "3.9.13"
  }
 },
 "nbformat": 4,
 "nbformat_minor": 5
}
