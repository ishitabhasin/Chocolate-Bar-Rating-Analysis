{
 "cells": [
  {
   "cell_type": "markdown",
   "id": "ca875749",
   "metadata": {},
   "source": [
    "### Importing Liabraries"
   ]
  },
  {
   "cell_type": "code",
   "execution_count": 1,
   "id": "c37a0424",
   "metadata": {},
   "outputs": [],
   "source": [
    "\n",
    "import pandas as pd\n",
    "import numpy as np\n",
    "import matplotlib.pyplot as plt\n",
    "import seaborn as sns\n",
    "import os"
   ]
  },
  {
   "cell_type": "markdown",
   "id": "791044bf",
   "metadata": {},
   "source": [
    "### Assigning Path"
   ]
  },
  {
   "cell_type": "code",
   "execution_count": 2,
   "id": "16233d43",
   "metadata": {},
   "outputs": [],
   "source": [
    "path = r'/Users/ishitabhasin/Desktop/Career Foundary Tasks/Achievement 6'"
   ]
  },
  {
   "cell_type": "markdown",
   "id": "64764d4a",
   "metadata": {},
   "source": [
    "### Importing Dataset"
   ]
  },
  {
   "cell_type": "code",
   "execution_count": 3,
   "id": "c63446e4",
   "metadata": {},
   "outputs": [],
   "source": [
    "df_choc = pd.read_csv(os.path.join(path,'flavors_of_cacao.csv'),index_col = False)"
   ]
  },
  {
   "cell_type": "code",
   "execution_count": 4,
   "id": "5364f05d",
   "metadata": {},
   "outputs": [
    {
     "data": {
      "text/plain": [
       "(1795, 9)"
      ]
     },
     "execution_count": 4,
     "metadata": {},
     "output_type": "execute_result"
    }
   ],
   "source": [
    "df_choc.shape"
   ]
  },
  {
   "cell_type": "code",
   "execution_count": 5,
   "id": "ac004f01",
   "metadata": {},
   "outputs": [
    {
     "data": {
      "text/html": [
       "<div>\n",
       "<style scoped>\n",
       "    .dataframe tbody tr th:only-of-type {\n",
       "        vertical-align: middle;\n",
       "    }\n",
       "\n",
       "    .dataframe tbody tr th {\n",
       "        vertical-align: top;\n",
       "    }\n",
       "\n",
       "    .dataframe thead th {\n",
       "        text-align: right;\n",
       "    }\n",
       "</style>\n",
       "<table border=\"1\" class=\"dataframe\">\n",
       "  <thead>\n",
       "    <tr style=\"text-align: right;\">\n",
       "      <th></th>\n",
       "      <th>Company \\n(Maker-if known)</th>\n",
       "      <th>Specific Bean Origin\\nor Bar Name</th>\n",
       "      <th>REF</th>\n",
       "      <th>Review\\nDate</th>\n",
       "      <th>Cocoa\\nPercent</th>\n",
       "      <th>Company\\nLocation</th>\n",
       "      <th>Rating</th>\n",
       "      <th>Bean\\nType</th>\n",
       "      <th>Broad Bean\\nOrigin</th>\n",
       "    </tr>\n",
       "  </thead>\n",
       "  <tbody>\n",
       "    <tr>\n",
       "      <th>0</th>\n",
       "      <td>A. Morin</td>\n",
       "      <td>Agua Grande</td>\n",
       "      <td>1876</td>\n",
       "      <td>2016</td>\n",
       "      <td>63%</td>\n",
       "      <td>France</td>\n",
       "      <td>3.75</td>\n",
       "      <td></td>\n",
       "      <td>Sao Tome</td>\n",
       "    </tr>\n",
       "    <tr>\n",
       "      <th>1</th>\n",
       "      <td>A. Morin</td>\n",
       "      <td>Kpime</td>\n",
       "      <td>1676</td>\n",
       "      <td>2015</td>\n",
       "      <td>70%</td>\n",
       "      <td>France</td>\n",
       "      <td>2.75</td>\n",
       "      <td></td>\n",
       "      <td>Togo</td>\n",
       "    </tr>\n",
       "    <tr>\n",
       "      <th>2</th>\n",
       "      <td>A. Morin</td>\n",
       "      <td>Atsane</td>\n",
       "      <td>1676</td>\n",
       "      <td>2015</td>\n",
       "      <td>70%</td>\n",
       "      <td>France</td>\n",
       "      <td>3.00</td>\n",
       "      <td></td>\n",
       "      <td>Togo</td>\n",
       "    </tr>\n",
       "    <tr>\n",
       "      <th>3</th>\n",
       "      <td>A. Morin</td>\n",
       "      <td>Akata</td>\n",
       "      <td>1680</td>\n",
       "      <td>2015</td>\n",
       "      <td>70%</td>\n",
       "      <td>France</td>\n",
       "      <td>3.50</td>\n",
       "      <td></td>\n",
       "      <td>Togo</td>\n",
       "    </tr>\n",
       "    <tr>\n",
       "      <th>4</th>\n",
       "      <td>A. Morin</td>\n",
       "      <td>Quilla</td>\n",
       "      <td>1704</td>\n",
       "      <td>2015</td>\n",
       "      <td>70%</td>\n",
       "      <td>France</td>\n",
       "      <td>3.50</td>\n",
       "      <td></td>\n",
       "      <td>Peru</td>\n",
       "    </tr>\n",
       "  </tbody>\n",
       "</table>\n",
       "</div>"
      ],
      "text/plain": [
       "  Company \\n(Maker-if known) Specific Bean Origin\\nor Bar Name   REF  \\\n",
       "0                   A. Morin                       Agua Grande  1876   \n",
       "1                   A. Morin                             Kpime  1676   \n",
       "2                   A. Morin                            Atsane  1676   \n",
       "3                   A. Morin                             Akata  1680   \n",
       "4                   A. Morin                            Quilla  1704   \n",
       "\n",
       "   Review\\nDate Cocoa\\nPercent Company\\nLocation  Rating Bean\\nType  \\\n",
       "0          2016            63%            France    3.75              \n",
       "1          2015            70%            France    2.75              \n",
       "2          2015            70%            France    3.00              \n",
       "3          2015            70%            France    3.50              \n",
       "4          2015            70%            France    3.50              \n",
       "\n",
       "  Broad Bean\\nOrigin  \n",
       "0           Sao Tome  \n",
       "1               Togo  \n",
       "2               Togo  \n",
       "3               Togo  \n",
       "4               Peru  "
      ]
     },
     "execution_count": 5,
     "metadata": {},
     "output_type": "execute_result"
    }
   ],
   "source": [
    "df_choc.head()"
   ]
  },
  {
   "cell_type": "code",
   "execution_count": 6,
   "id": "422d24a3",
   "metadata": {},
   "outputs": [
    {
     "name": "stdout",
     "output_type": "stream",
     "text": [
      "<class 'pandas.core.frame.DataFrame'>\n",
      "RangeIndex: 1795 entries, 0 to 1794\n",
      "Data columns (total 9 columns):\n",
      " #   Column                            Non-Null Count  Dtype  \n",
      "---  ------                            --------------  -----  \n",
      " 0   Company \n",
      "(Maker-if known)         1795 non-null   object \n",
      " 1   Specific Bean Origin\n",
      "or Bar Name  1795 non-null   object \n",
      " 2   REF                               1795 non-null   int64  \n",
      " 3   Review\n",
      "Date                       1795 non-null   int64  \n",
      " 4   Cocoa\n",
      "Percent                     1795 non-null   object \n",
      " 5   Company\n",
      "Location                  1795 non-null   object \n",
      " 6   Rating                            1795 non-null   float64\n",
      " 7   Bean\n",
      "Type                         1794 non-null   object \n",
      " 8   Broad Bean\n",
      "Origin                 1794 non-null   object \n",
      "dtypes: float64(1), int64(2), object(6)\n",
      "memory usage: 126.3+ KB\n"
     ]
    }
   ],
   "source": [
    "df_choc.info()"
   ]
  },
  {
   "cell_type": "code",
   "execution_count": 7,
   "id": "07f8f3f7",
   "metadata": {},
   "outputs": [
    {
     "data": {
      "text/plain": [
       "Company \\n(Maker-if known)            object\n",
       "Specific Bean Origin\\nor Bar Name     object\n",
       "REF                                    int64\n",
       "Review\\nDate                           int64\n",
       "Cocoa\\nPercent                        object\n",
       "Company\\nLocation                     object\n",
       "Rating                               float64\n",
       "Bean\\nType                            object\n",
       "Broad Bean\\nOrigin                    object\n",
       "dtype: object"
      ]
     },
     "execution_count": 7,
     "metadata": {},
     "output_type": "execute_result"
    }
   ],
   "source": [
    "df_choc.dtypes"
   ]
  },
  {
   "cell_type": "markdown",
   "id": "9bb1976e",
   "metadata": {},
   "source": [
    "### Data Cleaning"
   ]
  },
  {
   "cell_type": "markdown",
   "id": "8f990f3d",
   "metadata": {},
   "source": [
    "#### 1.Renaming Columns"
   ]
  },
  {
   "cell_type": "code",
   "execution_count": 8,
   "id": "5b507063",
   "metadata": {},
   "outputs": [],
   "source": [
    "# Remaning Columns for consistency\n",
    "cols = {\n",
    "    'Company\\xa0\\n(Maker-if known)' : \"Company_name\",\n",
    "    'Specific Bean Origin\\nor Bar Name' : \"Bar_origin\",\n",
    "    'REF' : \"Ref\", \n",
    "    'Review\\nDate' : \"Review_date\", \n",
    "    'Cocoa\\nPercent' : \"Cocoa_percentage\", \n",
    "    'Company\\nLocation' : \"Company_location\", \n",
    "    'Rating' : \"Rating\",\n",
    "    'Bean\\nType' : \"Bean_type\", \n",
    "    'Broad Bean\\nOrigin' : \"Bean_origin\"\n",
    "}\n",
    "df_choc.rename(columns=cols, inplace=True)"
   ]
  },
  {
   "cell_type": "code",
   "execution_count": 9,
   "id": "56d6406f",
   "metadata": {},
   "outputs": [
    {
     "data": {
      "text/plain": [
       "Index(['Company_name', 'Bar_origin', 'Ref', 'Review_date', 'Cocoa_percentage',\n",
       "       'Company_location', 'Rating', 'Bean_type', 'Bean_origin'],\n",
       "      dtype='object')"
      ]
     },
     "execution_count": 9,
     "metadata": {},
     "output_type": "execute_result"
    }
   ],
   "source": [
    "#Checking output\n",
    "df_choc.columns"
   ]
  },
  {
   "cell_type": "code",
   "execution_count": 10,
   "id": "0b8c6f09",
   "metadata": {},
   "outputs": [
    {
     "name": "stdout",
     "output_type": "stream",
     "text": [
      "<class 'pandas.core.frame.DataFrame'>\n",
      "RangeIndex: 1795 entries, 0 to 1794\n",
      "Data columns (total 9 columns):\n",
      " #   Column            Non-Null Count  Dtype  \n",
      "---  ------            --------------  -----  \n",
      " 0   Company_name      1795 non-null   object \n",
      " 1   Bar_origin        1795 non-null   object \n",
      " 2   Ref               1795 non-null   int64  \n",
      " 3   Review_date       1795 non-null   int64  \n",
      " 4   Cocoa_percentage  1795 non-null   object \n",
      " 5   Company_location  1795 non-null   object \n",
      " 6   Rating            1795 non-null   float64\n",
      " 7   Bean_type         1794 non-null   object \n",
      " 8   Bean_origin       1794 non-null   object \n",
      "dtypes: float64(1), int64(2), object(6)\n",
      "memory usage: 126.3+ KB\n"
     ]
    }
   ],
   "source": [
    "df_choc.info()"
   ]
  },
  {
   "cell_type": "code",
   "execution_count": 11,
   "id": "085362ae",
   "metadata": {},
   "outputs": [
    {
     "data": {
      "text/html": [
       "<div>\n",
       "<style scoped>\n",
       "    .dataframe tbody tr th:only-of-type {\n",
       "        vertical-align: middle;\n",
       "    }\n",
       "\n",
       "    .dataframe tbody tr th {\n",
       "        vertical-align: top;\n",
       "    }\n",
       "\n",
       "    .dataframe thead th {\n",
       "        text-align: right;\n",
       "    }\n",
       "</style>\n",
       "<table border=\"1\" class=\"dataframe\">\n",
       "  <thead>\n",
       "    <tr style=\"text-align: right;\">\n",
       "      <th></th>\n",
       "      <th>Company_name</th>\n",
       "      <th>Bar_origin</th>\n",
       "      <th>Ref</th>\n",
       "      <th>Review_date</th>\n",
       "      <th>Cocoa_percentage</th>\n",
       "      <th>Company_location</th>\n",
       "      <th>Rating</th>\n",
       "      <th>Bean_type</th>\n",
       "      <th>Bean_origin</th>\n",
       "    </tr>\n",
       "  </thead>\n",
       "  <tbody>\n",
       "    <tr>\n",
       "      <th>count</th>\n",
       "      <td>1795</td>\n",
       "      <td>1795</td>\n",
       "      <td>1795.000000</td>\n",
       "      <td>1795.000000</td>\n",
       "      <td>1795</td>\n",
       "      <td>1795</td>\n",
       "      <td>1795.000000</td>\n",
       "      <td>1794</td>\n",
       "      <td>1794</td>\n",
       "    </tr>\n",
       "    <tr>\n",
       "      <th>unique</th>\n",
       "      <td>416</td>\n",
       "      <td>1039</td>\n",
       "      <td>NaN</td>\n",
       "      <td>NaN</td>\n",
       "      <td>45</td>\n",
       "      <td>60</td>\n",
       "      <td>NaN</td>\n",
       "      <td>41</td>\n",
       "      <td>100</td>\n",
       "    </tr>\n",
       "    <tr>\n",
       "      <th>top</th>\n",
       "      <td>Soma</td>\n",
       "      <td>Madagascar</td>\n",
       "      <td>NaN</td>\n",
       "      <td>NaN</td>\n",
       "      <td>70%</td>\n",
       "      <td>U.S.A.</td>\n",
       "      <td>NaN</td>\n",
       "      <td></td>\n",
       "      <td>Venezuela</td>\n",
       "    </tr>\n",
       "    <tr>\n",
       "      <th>freq</th>\n",
       "      <td>47</td>\n",
       "      <td>57</td>\n",
       "      <td>NaN</td>\n",
       "      <td>NaN</td>\n",
       "      <td>672</td>\n",
       "      <td>764</td>\n",
       "      <td>NaN</td>\n",
       "      <td>887</td>\n",
       "      <td>214</td>\n",
       "    </tr>\n",
       "    <tr>\n",
       "      <th>mean</th>\n",
       "      <td>NaN</td>\n",
       "      <td>NaN</td>\n",
       "      <td>1035.904735</td>\n",
       "      <td>2012.325348</td>\n",
       "      <td>NaN</td>\n",
       "      <td>NaN</td>\n",
       "      <td>3.185933</td>\n",
       "      <td>NaN</td>\n",
       "      <td>NaN</td>\n",
       "    </tr>\n",
       "    <tr>\n",
       "      <th>std</th>\n",
       "      <td>NaN</td>\n",
       "      <td>NaN</td>\n",
       "      <td>552.886365</td>\n",
       "      <td>2.927210</td>\n",
       "      <td>NaN</td>\n",
       "      <td>NaN</td>\n",
       "      <td>0.478062</td>\n",
       "      <td>NaN</td>\n",
       "      <td>NaN</td>\n",
       "    </tr>\n",
       "    <tr>\n",
       "      <th>min</th>\n",
       "      <td>NaN</td>\n",
       "      <td>NaN</td>\n",
       "      <td>5.000000</td>\n",
       "      <td>2006.000000</td>\n",
       "      <td>NaN</td>\n",
       "      <td>NaN</td>\n",
       "      <td>1.000000</td>\n",
       "      <td>NaN</td>\n",
       "      <td>NaN</td>\n",
       "    </tr>\n",
       "    <tr>\n",
       "      <th>25%</th>\n",
       "      <td>NaN</td>\n",
       "      <td>NaN</td>\n",
       "      <td>576.000000</td>\n",
       "      <td>2010.000000</td>\n",
       "      <td>NaN</td>\n",
       "      <td>NaN</td>\n",
       "      <td>2.875000</td>\n",
       "      <td>NaN</td>\n",
       "      <td>NaN</td>\n",
       "    </tr>\n",
       "    <tr>\n",
       "      <th>50%</th>\n",
       "      <td>NaN</td>\n",
       "      <td>NaN</td>\n",
       "      <td>1069.000000</td>\n",
       "      <td>2013.000000</td>\n",
       "      <td>NaN</td>\n",
       "      <td>NaN</td>\n",
       "      <td>3.250000</td>\n",
       "      <td>NaN</td>\n",
       "      <td>NaN</td>\n",
       "    </tr>\n",
       "    <tr>\n",
       "      <th>75%</th>\n",
       "      <td>NaN</td>\n",
       "      <td>NaN</td>\n",
       "      <td>1502.000000</td>\n",
       "      <td>2015.000000</td>\n",
       "      <td>NaN</td>\n",
       "      <td>NaN</td>\n",
       "      <td>3.500000</td>\n",
       "      <td>NaN</td>\n",
       "      <td>NaN</td>\n",
       "    </tr>\n",
       "    <tr>\n",
       "      <th>max</th>\n",
       "      <td>NaN</td>\n",
       "      <td>NaN</td>\n",
       "      <td>1952.000000</td>\n",
       "      <td>2017.000000</td>\n",
       "      <td>NaN</td>\n",
       "      <td>NaN</td>\n",
       "      <td>5.000000</td>\n",
       "      <td>NaN</td>\n",
       "      <td>NaN</td>\n",
       "    </tr>\n",
       "  </tbody>\n",
       "</table>\n",
       "</div>"
      ],
      "text/plain": [
       "       Company_name  Bar_origin          Ref  Review_date Cocoa_percentage  \\\n",
       "count          1795        1795  1795.000000  1795.000000             1795   \n",
       "unique          416        1039          NaN          NaN               45   \n",
       "top            Soma  Madagascar          NaN          NaN              70%   \n",
       "freq             47          57          NaN          NaN              672   \n",
       "mean            NaN         NaN  1035.904735  2012.325348              NaN   \n",
       "std             NaN         NaN   552.886365     2.927210              NaN   \n",
       "min             NaN         NaN     5.000000  2006.000000              NaN   \n",
       "25%             NaN         NaN   576.000000  2010.000000              NaN   \n",
       "50%             NaN         NaN  1069.000000  2013.000000              NaN   \n",
       "75%             NaN         NaN  1502.000000  2015.000000              NaN   \n",
       "max             NaN         NaN  1952.000000  2017.000000              NaN   \n",
       "\n",
       "       Company_location       Rating Bean_type Bean_origin  \n",
       "count              1795  1795.000000      1794        1794  \n",
       "unique               60          NaN        41         100  \n",
       "top              U.S.A.          NaN             Venezuela  \n",
       "freq                764          NaN       887         214  \n",
       "mean                NaN     3.185933       NaN         NaN  \n",
       "std                 NaN     0.478062       NaN         NaN  \n",
       "min                 NaN     1.000000       NaN         NaN  \n",
       "25%                 NaN     2.875000       NaN         NaN  \n",
       "50%                 NaN     3.250000       NaN         NaN  \n",
       "75%                 NaN     3.500000       NaN         NaN  \n",
       "max                 NaN     5.000000       NaN         NaN  "
      ]
     },
     "execution_count": 11,
     "metadata": {},
     "output_type": "execute_result"
    }
   ],
   "source": [
    "df_choc.describe(include='all')"
   ]
  },
  {
   "cell_type": "code",
   "execution_count": 12,
   "id": "28a4b8b2",
   "metadata": {},
   "outputs": [
    {
     "data": {
      "text/plain": [
       "array(['\\xa0', 'Criollo', 'Trinitario', 'Forastero (Arriba)', 'Forastero',\n",
       "       'Forastero (Nacional)', 'Criollo, Trinitario',\n",
       "       'Criollo (Porcelana)', 'Blend', 'Trinitario (85% Criollo)',\n",
       "       'Forastero (Catongo)', 'Forastero (Parazinho)',\n",
       "       'Trinitario, Criollo', 'CCN51', 'Criollo (Ocumare)', 'Nacional',\n",
       "       'Criollo (Ocumare 61)', 'Criollo (Ocumare 77)',\n",
       "       'Criollo (Ocumare 67)', 'Criollo (Wild)', 'Beniano', 'Amazon mix',\n",
       "       'Trinitario, Forastero', 'Forastero (Arriba) ASS', 'Criollo, +',\n",
       "       'Amazon', 'Amazon, ICS', 'EET', 'Blend-Forastero,Criollo',\n",
       "       'Trinitario (Scavina)', 'Criollo, Forastero', 'Matina',\n",
       "       'Forastero(Arriba, CCN)', 'Nacional (Arriba)',\n",
       "       'Forastero (Arriba) ASSS', 'Forastero, Trinitario',\n",
       "       'Forastero (Amelonado)', nan, 'Trinitario, Nacional',\n",
       "       'Trinitario (Amelonado)', 'Trinitario, TCGA', 'Criollo (Amarru)'],\n",
       "      dtype=object)"
      ]
     },
     "execution_count": 12,
     "metadata": {},
     "output_type": "execute_result"
    }
   ],
   "source": [
    "df_choc['Bean_type'].unique()"
   ]
  },
  {
   "cell_type": "markdown",
   "id": "8276d7a8",
   "metadata": {},
   "source": [
    "We see that in the bean type column there is a improper value '\\xa0', so we will be replacing this with NaN"
   ]
  },
  {
   "cell_type": "code",
   "execution_count": 13,
   "id": "cdbc3eb2",
   "metadata": {},
   "outputs": [],
   "source": [
    "df_choc = df_choc.replace(u'\\xa0', np.NaN)"
   ]
  },
  {
   "cell_type": "markdown",
   "id": "a3f35c1d",
   "metadata": {},
   "source": [
    "#### 2. Finding Duplicates"
   ]
  },
  {
   "cell_type": "code",
   "execution_count": 14,
   "id": "e8376465",
   "metadata": {},
   "outputs": [
    {
     "data": {
      "text/html": [
       "<div>\n",
       "<style scoped>\n",
       "    .dataframe tbody tr th:only-of-type {\n",
       "        vertical-align: middle;\n",
       "    }\n",
       "\n",
       "    .dataframe tbody tr th {\n",
       "        vertical-align: top;\n",
       "    }\n",
       "\n",
       "    .dataframe thead th {\n",
       "        text-align: right;\n",
       "    }\n",
       "</style>\n",
       "<table border=\"1\" class=\"dataframe\">\n",
       "  <thead>\n",
       "    <tr style=\"text-align: right;\">\n",
       "      <th></th>\n",
       "      <th>Company_name</th>\n",
       "      <th>Bar_origin</th>\n",
       "      <th>Ref</th>\n",
       "      <th>Review_date</th>\n",
       "      <th>Cocoa_percentage</th>\n",
       "      <th>Company_location</th>\n",
       "      <th>Rating</th>\n",
       "      <th>Bean_type</th>\n",
       "      <th>Bean_origin</th>\n",
       "    </tr>\n",
       "  </thead>\n",
       "  <tbody>\n",
       "  </tbody>\n",
       "</table>\n",
       "</div>"
      ],
      "text/plain": [
       "Empty DataFrame\n",
       "Columns: [Company_name, Bar_origin, Ref, Review_date, Cocoa_percentage, Company_location, Rating, Bean_type, Bean_origin]\n",
       "Index: []"
      ]
     },
     "execution_count": 14,
     "metadata": {},
     "output_type": "execute_result"
    }
   ],
   "source": [
    "#finding duplicates\n",
    "df_choc[df_choc.duplicated()]"
   ]
  },
  {
   "cell_type": "markdown",
   "id": "200c8af6",
   "metadata": {},
   "source": [
    "we see that the dataset contains no duplicate values"
   ]
  },
  {
   "cell_type": "markdown",
   "id": "ed470146",
   "metadata": {},
   "source": [
    "#### 3. Finding Missing Values"
   ]
  },
  {
   "cell_type": "code",
   "execution_count": 15,
   "id": "c97b28ee",
   "metadata": {},
   "outputs": [
    {
     "data": {
      "text/plain": [
       "Company_name          0\n",
       "Bar_origin            0\n",
       "Ref                   0\n",
       "Review_date           0\n",
       "Cocoa_percentage      0\n",
       "Company_location      0\n",
       "Rating                0\n",
       "Bean_type           888\n",
       "Bean_origin          74\n",
       "dtype: int64"
      ]
     },
     "execution_count": 15,
     "metadata": {},
     "output_type": "execute_result"
    }
   ],
   "source": [
    "df_choc.isnull().sum()"
   ]
  },
  {
   "cell_type": "code",
   "execution_count": 16,
   "id": "e5ed6372",
   "metadata": {},
   "outputs": [
    {
     "data": {
      "text/plain": [
       "Bean_type      49.470752\n",
       "Bean_origin     4.122563\n",
       "dtype: float64"
      ]
     },
     "execution_count": 16,
     "metadata": {},
     "output_type": "execute_result"
    }
   ],
   "source": [
    "#Find the percentage of missing values\n",
    "\n",
    "percentage_missing = df_choc.isnull().sum().sort_values(ascending=False) * 100/len(df_choc)\n",
    "percentage_missing = percentage_missing[percentage_missing > 0]\n",
    "percentage_missing"
   ]
  },
  {
   "cell_type": "markdown",
   "id": "3c7cee4c",
   "metadata": {},
   "source": [
    "Since 49% of the bean type of data has empty values I am going to drop this column for analysis."
   ]
  },
  {
   "cell_type": "markdown",
   "id": "cbd6e2c5",
   "metadata": {},
   "source": [
    "#### 4. Dropping Columns"
   ]
  },
  {
   "cell_type": "code",
   "execution_count": 17,
   "id": "8e3ba7a8",
   "metadata": {},
   "outputs": [
    {
     "data": {
      "text/plain": [
       "Company_name         0\n",
       "Bar_origin           0\n",
       "Ref                  0\n",
       "Review_date          0\n",
       "Cocoa_percentage     0\n",
       "Company_location     0\n",
       "Rating               0\n",
       "Bean_origin         74\n",
       "dtype: int64"
      ]
     },
     "execution_count": 17,
     "metadata": {},
     "output_type": "execute_result"
    }
   ],
   "source": [
    "df_choc = df_choc.drop('Bean_type', axis=1)\n",
    "df_choc.isnull().sum()"
   ]
  },
  {
   "cell_type": "markdown",
   "id": "f35d6022",
   "metadata": {},
   "source": [
    "Also, 4% of broad_bean_origin is missing, so let us remove the rows which has value null for this column for better analysis."
   ]
  },
  {
   "cell_type": "code",
   "execution_count": 18,
   "id": "382c5f8d",
   "metadata": {},
   "outputs": [
    {
     "name": "stdout",
     "output_type": "stream",
     "text": [
      "Bean_origin\n"
     ]
    }
   ],
   "source": [
    "#check for mixed data type\n",
    "for col in df_choc.columns.tolist():\n",
    "  weird = (df_choc[[col]].applymap(type) != df_choc[[col]].iloc[0].apply(type)).any(axis = 1)\n",
    "  if len (df_choc[weird]) > 0:\n",
    "    print (col)"
   ]
  },
  {
   "cell_type": "code",
   "execution_count": 19,
   "id": "7a340d9a",
   "metadata": {},
   "outputs": [],
   "source": [
    "#converted the mixed data type into string\n",
    "df_choc['Bean_origin'] = df_choc['Bean_origin'].astype('str')"
   ]
  },
  {
   "cell_type": "code",
   "execution_count": 20,
   "id": "e20c410a",
   "metadata": {},
   "outputs": [],
   "source": [
    "#check for mixed data type again\n",
    "for col in df_choc.columns.tolist():\n",
    "  weird = (df_choc[[col]].applymap(type) != df_choc[[col]].iloc[0].apply(type)).any(axis = 1)\n",
    "  if len (df_choc[weird]) > 0:\n",
    "    print (col)"
   ]
  },
  {
   "cell_type": "markdown",
   "id": "056afd24",
   "metadata": {},
   "source": [
    "Mixed valued addressed"
   ]
  },
  {
   "cell_type": "code",
   "execution_count": 21,
   "id": "8b7ae1b3",
   "metadata": {},
   "outputs": [
    {
     "data": {
      "text/plain": [
       "Company_name        0\n",
       "Bar_origin          0\n",
       "Ref                 0\n",
       "Review_date         0\n",
       "Cocoa_percentage    0\n",
       "Company_location    0\n",
       "Rating              0\n",
       "Bean_origin         0\n",
       "dtype: int64"
      ]
     },
     "execution_count": 21,
     "metadata": {},
     "output_type": "execute_result"
    }
   ],
   "source": [
    "df_choc_clean = df_choc.dropna(axis=0)\n",
    "df_choc_clean.isnull().sum()"
   ]
  },
  {
   "cell_type": "markdown",
   "id": "30df3e2a",
   "metadata": {},
   "source": [
    "Now we have handled the missing or null values in the dataset, and there are no null values in the dataset."
   ]
  },
  {
   "cell_type": "code",
   "execution_count": 22,
   "id": "ef85ab3d",
   "metadata": {},
   "outputs": [
    {
     "data": {
      "text/plain": [
       "(1795, 8)"
      ]
     },
     "execution_count": 22,
     "metadata": {},
     "output_type": "execute_result"
    }
   ],
   "source": [
    "df_choc_clean.shape"
   ]
  },
  {
   "cell_type": "markdown",
   "id": "46e00e3f",
   "metadata": {},
   "source": [
    "#### 5. Exporting cleaned dataset"
   ]
  },
  {
   "cell_type": "code",
   "execution_count": 23,
   "id": "8d1035a4",
   "metadata": {},
   "outputs": [],
   "source": [
    "df_choc_clean.to_csv(os.path.join(path, '02 Data', 'Prepared Data', 'df_choc_clean.csv'))"
   ]
  },
  {
   "cell_type": "code",
   "execution_count": null,
   "id": "8682b5ae",
   "metadata": {},
   "outputs": [],
   "source": []
  }
 ],
 "metadata": {
  "kernelspec": {
   "display_name": "Python 3 (ipykernel)",
   "language": "python",
   "name": "python3"
  },
  "language_info": {
   "codemirror_mode": {
    "name": "ipython",
    "version": 3
   },
   "file_extension": ".py",
   "mimetype": "text/x-python",
   "name": "python",
   "nbconvert_exporter": "python",
   "pygments_lexer": "ipython3",
   "version": "3.9.13"
  }
 },
 "nbformat": 4,
 "nbformat_minor": 5
}
